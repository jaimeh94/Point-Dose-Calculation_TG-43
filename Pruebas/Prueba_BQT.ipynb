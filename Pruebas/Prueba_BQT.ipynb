{
 "cells": [
  {
   "cell_type": "code",
   "execution_count": 23,
   "metadata": {
    "executionInfo": {
     "elapsed": 153,
     "status": "ok",
     "timestamp": 1633710585322,
     "user": {
      "displayName": "Jaime Hipolito Cabrera Salcedo",
      "photoUrl": "https://lh3.googleusercontent.com/a-/AOh14GhhVKq-ZyUcUOiGIT07jqy0coDy1alzcwiAWLiznQo3t0oIN6Hgj7ZD7ob1Ib0B5nZu6Fu44qIsobHe5qpcgjQ3I4uTpqfgLWDz7Mvz1L_zdSHdiY0w53kb8tRebKtALT1S9Hj5NRGvzjuVzEh-5vn4EAkT4bdaHcLEPJpE2veN0594VSE__Npxdqkp37rRoKO9AKAh857jmHkMqcRQtBYqG1px2dZ6T9MYdxQ8Rh89adq8q7a0x_oXi4V8dClcyOIBAeLaZEszlDF-R8QSe5zKJBfTGZ1nNzRXRkFZaotZhisdqbbS3pAmkAWVOfQ85Vh_cwsHKFp8Y4muPrqyUkSRbsepsxJeSx6o73Y4FRFqC3oeA3EZB9GbURGxpNNViDgkpioXXu4SVwoX5UyP8LzVvhe3xO7TeYIjj6ACLIZPuwp6npGGBnRxu1OXGa_j3QAUo-oculPGdyi0G_bks3FKW5PkLVtMlKhxiN2Fuqj7YwLkK-OIegmyfj70NhSsKv11RAtgZl6WiIMIElNDqf1YX6JoNkDfIfM5P0F7YeR5XE-SsVPGFalENrj-kOjheV6lSlEOzaFbAQ-hn1n1zPgRQyhrdXJ42F7YXjfNqg2_2roottoZX41zEHDg7MSetUmogd7_05wgZpaKzAWz2f8iNdHefoAD3gZPAG1r1rutcqghwp1q5KsPaJC0TiWWj7oc5ji9Skx4LM0qOj9_6IdOR_rm8x9sETB7nbGVJ42LEzQw_Mb2JjT7dMnmfYjh_zZsrA=s64",
      "userId": "06362799441420365332"
     },
     "user_tz": 300
    },
    "id": "339bef9d"
   },
   "outputs": [],
   "source": [
    "import pandas as pd\n",
    "import numpy as np\n",
    "import matplotlib.pyplot as plt\n",
    "from scipy import interpolate\n",
    "from datetime import datetime"
   ]
  },
  {
   "cell_type": "code",
   "execution_count": 3,
   "metadata": {
    "executionInfo": {
     "elapsed": 236,
     "status": "ok",
     "timestamp": 1633710585719,
     "user": {
      "displayName": "Jaime Hipolito Cabrera Salcedo",
      "photoUrl": "https://lh3.googleusercontent.com/a-/AOh14GhhVKq-ZyUcUOiGIT07jqy0coDy1alzcwiAWLiznQo3t0oIN6Hgj7ZD7ob1Ib0B5nZu6Fu44qIsobHe5qpcgjQ3I4uTpqfgLWDz7Mvz1L_zdSHdiY0w53kb8tRebKtALT1S9Hj5NRGvzjuVzEh-5vn4EAkT4bdaHcLEPJpE2veN0594VSE__Npxdqkp37rRoKO9AKAh857jmHkMqcRQtBYqG1px2dZ6T9MYdxQ8Rh89adq8q7a0x_oXi4V8dClcyOIBAeLaZEszlDF-R8QSe5zKJBfTGZ1nNzRXRkFZaotZhisdqbbS3pAmkAWVOfQ85Vh_cwsHKFp8Y4muPrqyUkSRbsepsxJeSx6o73Y4FRFqC3oeA3EZB9GbURGxpNNViDgkpioXXu4SVwoX5UyP8LzVvhe3xO7TeYIjj6ACLIZPuwp6npGGBnRxu1OXGa_j3QAUo-oculPGdyi0G_bks3FKW5PkLVtMlKhxiN2Fuqj7YwLkK-OIegmyfj70NhSsKv11RAtgZl6WiIMIElNDqf1YX6JoNkDfIfM5P0F7YeR5XE-SsVPGFalENrj-kOjheV6lSlEOzaFbAQ-hn1n1zPgRQyhrdXJ42F7YXjfNqg2_2roottoZX41zEHDg7MSetUmogd7_05wgZpaKzAWz2f8iNdHefoAD3gZPAG1r1rutcqghwp1q5KsPaJC0TiWWj7oc5ji9Skx4LM0qOj9_6IdOR_rm8x9sETB7nbGVJ42LEzQw_Mb2JjT7dMnmfYjh_zZsrA=s64",
      "userId": "06362799441420365332"
     },
     "user_tz": 300
    },
    "id": "41f6adbd"
   },
   "outputs": [],
   "source": [
    "# g(r)\n",
    "#r(mm) g(r)\n",
    "RadialDoseFuntion = pd.DataFrame([[0.0,\t1.0080\t],\n",
    "[5.0,\t1.0000\t],\n",
    "[10.0,\t1.0000\t],\n",
    "[15.0,\t1.0030\t],\n",
    "[20.0,\t1.0070\t],\n",
    "[25.0,\t1.0080\t],\n",
    "[30.0,\t1.0080\t],\n",
    "[35.0,\t1.0067\t],\n",
    "[40.0,\t1.0040\t],\n",
    "[45.0,\t1.0002\t],\n",
    "[50.0,\t0.9950\t],\n",
    "[55.0,\t0.9884\t],\n",
    "[60.0,\t0.9810\t],\n",
    "[65.0,\t0.9732\t],\n",
    "[70.0,\t0.9640\t],\n",
    "[75.0,\t0.9527\t],\n",
    "[80.0,\t0.9400\t],\n",
    "[85.0,\t0.9268\t],\n",
    "[90.0,\t0.9130\t],\n",
    "[95.0,\t0.8982\t],\n",
    "[100.0,\t0.8820],\t\n",
    "[105.0,\t0.8639],\t\n",
    "[110.0,\t0.8440],\t\n",
    "[115.0,\t0.8222],\t\n",
    "[120.0,\t0.7990],\t\n",
    "[125.0,\t0.7743],\t\n",
    "[130.0,\t0.7470],\t\n",
    "[135.0,\t0.7158],\t\n",
    "[140.0,\t0.6810]],columns=['r(mm)','g(r)'])"
   ]
  },
  {
   "cell_type": "code",
   "execution_count": 4,
   "metadata": {
    "executionInfo": {
     "elapsed": 8,
     "status": "ok",
     "timestamp": 1633710585720,
     "user": {
      "displayName": "Jaime Hipolito Cabrera Salcedo",
      "photoUrl": "https://lh3.googleusercontent.com/a-/AOh14GhhVKq-ZyUcUOiGIT07jqy0coDy1alzcwiAWLiznQo3t0oIN6Hgj7ZD7ob1Ib0B5nZu6Fu44qIsobHe5qpcgjQ3I4uTpqfgLWDz7Mvz1L_zdSHdiY0w53kb8tRebKtALT1S9Hj5NRGvzjuVzEh-5vn4EAkT4bdaHcLEPJpE2veN0594VSE__Npxdqkp37rRoKO9AKAh857jmHkMqcRQtBYqG1px2dZ6T9MYdxQ8Rh89adq8q7a0x_oXi4V8dClcyOIBAeLaZEszlDF-R8QSe5zKJBfTGZ1nNzRXRkFZaotZhisdqbbS3pAmkAWVOfQ85Vh_cwsHKFp8Y4muPrqyUkSRbsepsxJeSx6o73Y4FRFqC3oeA3EZB9GbURGxpNNViDgkpioXXu4SVwoX5UyP8LzVvhe3xO7TeYIjj6ACLIZPuwp6npGGBnRxu1OXGa_j3QAUo-oculPGdyi0G_bks3FKW5PkLVtMlKhxiN2Fuqj7YwLkK-OIegmyfj70NhSsKv11RAtgZl6WiIMIElNDqf1YX6JoNkDfIfM5P0F7YeR5XE-SsVPGFalENrj-kOjheV6lSlEOzaFbAQ-hn1n1zPgRQyhrdXJ42F7YXjfNqg2_2roottoZX41zEHDg7MSetUmogd7_05wgZpaKzAWz2f8iNdHefoAD3gZPAG1r1rutcqghwp1q5KsPaJC0TiWWj7oc5ji9Skx4LM0qOj9_6IdOR_rm8x9sETB7nbGVJ42LEzQw_Mb2JjT7dMnmfYjh_zZsrA=s64",
      "userId": "06362799441420365332"
     },
     "user_tz": 300
    },
    "id": "1dc45cc3"
   },
   "outputs": [],
   "source": [
    "# f(r,theta)\n",
    "# r(mm) 0-5-10-15-20-25-30-35-40-45-50-55-60\n",
    "Anisotropy2D =pd.DataFrame([[0.0,\t0.7910,\t0.7950,\t0.7850,\t0.8370,\t0.8760,\t0.9083,\t0.9360,\t0.9442,\t0.9589,\t0.9694,\t0.9724,\t0.9780,\t0.9845,\t0.9897,\t0.9919,\t0.9894,\t0.9849,\t0.9861,\t1.0000,\t1.0058,\t0.9996,\t0.9930,\t0.9908,\t0.9893,\t0.9844,\t0.9775,\t0.9769,\t0.9736,\t0.9591,\t0.9460,\t0.9262,\t0.9061,\t0.8830,\t0.8330,\t0.8063,\t0.7976,\t0.7159],\t\n",
    "[5.0,\t  0.6670,\t0.6710,\t0.7270,\t0.7863,\t0.8360,\t0.8749,\t0.9040,\t0.9262,\t0.9433,\t0.9564,\t0.9672,\t0.9770,\t0.9849,\t0.9906,\t0.9949,\t0.9983,\t1.0009,\t1.0017,\t1.0000,\t0.9977,\t0.9959,\t0.9944,\t0.9925,\t0.9896,\t0.9848,\t0.9776,\t0.9678,\t0.9564,\t0.9432,\t0.9251,\t0.9024,\t0.8729,\t0.8324,\t0.7790,\t0.7100,\t0.6230,\t0.6090],\t\n",
    "[10.0,\t0.6310,\t0.6610,\t0.7270,\t0.7893,\t0.8390,\t0.8752,\t0.9020,\t0.9250,\t0.9429,\t0.9575,\t0.9693,\t0.9778,\t0.9846,\t0.9904,\t0.9950,\t0.9980,\t0.9995,\t1.0000,\t1.0000,\t1.0009,\t1.0015,\t1.0000,\t0.9957,\t0.9902,\t0.9851,\t0.9801,\t0.9725,\t0.9608,\t0.9456,\t0.9272,\t0.9041,\t0.8735,\t0.8320,\t0.7780,\t0.7070,\t0.6240,\t0.5850],\t\n",
    "[15.0,\t0.6339,\t0.6751,\t0.7378,\t0.7981,\t0.8449,\t0.8796,\t0.9058,\t0.9264,\t0.9460,\t0.9601,\t0.9691,\t0.9773,\t0.9847,\t0.9910,\t0.9955,\t0.9979,\t0.9984,\t0.9986,\t1.0000,\t1.0018,\t1.0024,\t1.0006,\t0.9963,\t0.9910,\t0.9860,\t0.9810,\t0.9736,\t0.9621,\t0.9466,\t0.9284,\t0.9058,\t0.8765,\t0.8380,\t0.7862,\t0.7201,\t0.6461,\t0.5917],\t\n",
    "[20.0,\t0.6450,\t0.6840,\t0.7450,\t0.8017,\t0.8460,\t0.8803,\t0.9070,\t0.9270,\t0.9481,\t0.9612,\t0.9679,\t0.9767,\t0.9852,\t0.9917,\t0.9962,\t0.9988,\t0.9999,\t1.0000,\t1.0000,\t1.0001,\t0.9997,\t0.9983,\t0.9955,\t0.9917,\t0.9871,\t0.9810,\t0.9719,\t0.9601,\t0.9456,\t0.9275,\t0.9054,\t0.8768,\t0.8400,\t0.7910,\t0.7270,\t0.6520,\t0.6030],\t\n",
    "[25.0,\t0.6535,\t0.6920,\t0.7516,\t0.8065,\t0.8492,\t0.8809,\t0.9066,\t0.9282,\t0.9492,\t0.9624,\t0.9696,\t0.9778,\t0.9854,\t0.9914,\t0.9957,\t0.9985,\t0.9999,\t1.0003,\t1.0000,\t0.9998,\t0.9995,\t0.9982,\t0.9956,\t0.9920,\t0.9875,\t0.9818,\t0.9740,\t0.9630,\t0.9487,\t0.9312,\t0.9093,\t0.8805,\t0.8433,\t0.7959,\t0.7341,\t0.6606,\t0.6130],\t\n",
    "[30.0,\t0.6600,\t0.7000,\t0.7580,\t0.8122,\t0.8540,\t0.8820,\t0.9060,\t0.9296,\t0.9497,\t0.9634,\t0.9723,\t0.9794,\t0.9852,\t0.9902,\t0.9941,\t0.9970,\t0.9989,\t0.9998,\t1.0000,\t1.0004,\t1.0006,\t0.9992,\t0.9960,\t0.9917,\t0.9872,\t0.9828,\t0.9779,\t0.9679,\t0.9532,\t0.9366,\t0.9150,\t0.8857,\t0.8472,\t0.8010,\t0.7420,\t0.6720,\t0.6220],\t\n",
    "[35.0,\t0.6676,\t0.7084,\t0.7642,\t0.8175,\t0.8587,\t0.8837,\t0.9062,\t0.9303,\t0.9497,\t0.9636,\t0.9733,\t0.9797,\t0.9845,\t0.9885,\t0.9920,\t0.9951,\t0.9979,\t0.9996,\t1.0000,\t1.0005,\t1.0007,\t0.9992,\t0.9954,\t0.9908,\t0.9865,\t0.9831,\t0.9799,\t0.9708,\t0.9557,\t0.9394,\t0.9186,\t0.8893,\t0.8501,\t0.8055,\t0.7499,\t0.6822,\t0.6314],\t\n",
    "[40.0,\t0.6765,\t0.7170,\t0.7703,\t0.8222,\t0.8631,\t0.8859,\t0.9073,\t0.9304,\t0.9494,\t0.9630,\t0.9725,\t0.9789,\t0.9832,\t0.9864,\t0.9893,\t0.9929,\t0.9969,\t0.9998,\t1.0000,\t0.9999,\t0.9998,\t0.9979,\t0.9940,\t0.9893,\t0.9854,\t0.9827,\t0.9800,\t0.9713,\t0.9559,\t0.9394,\t0.9200,\t0.8912,\t0.8520,\t0.8094,\t0.7579,\t0.6910,\t0.6414],\t\n",
    "[45.0,\t0.6862,\t0.7259,\t0.7762,\t0.8266,\t0.8674,\t0.8885,\t0.9090,\t0.9300,\t0.9488,\t0.9619,\t0.9705,\t0.9771,\t0.9814,\t0.9839,\t0.9862,\t0.9903,\t0.9959,\t1.0001,\t1.0000,\t0.9990,\t0.9982,\t0.9959,\t0.9918,\t0.9873,\t0.9840,\t0.9818,\t0.9789,\t0.9704,\t0.9545,\t0.9375,\t0.9199,\t0.8920,\t0.8533,\t0.8128,\t0.7659,\t0.6990,\t0.6517],\t\n",
    "[50.0,\t0.6960,\t0.7350,\t0.7820,\t0.8309,\t0.8720,\t0.8915,\t0.9110,\t0.9293,\t0.9478,\t0.9604,\t0.9680,\t0.9749,\t0.9793,\t0.9810,\t0.9827,\t0.9874,\t0.9947,\t1.0004,\t1.0000,\t0.9980,\t0.9964,\t0.9936,\t0.9893,\t0.9849,\t0.9822,\t0.9806,\t0.9772,\t0.9688,\t0.9525,\t0.9347,\t0.9191,\t0.8924,\t0.8541,\t0.8160,\t0.7740,\t0.7070,\t0.6620]],\n",
    "columns=['r(mm)\\\\theta(°)', '0',\t'5',\t'10',\t'15',\t'20',\t'25',\t'30',\t'35',\t'40',\t'45',\t'50',\t'55',\t'60',\t'65',\t'70',\t'75',\t'80',\t'85',\t'90',\t'95',\t'100',\t'105',\t'110',\t'115',\t'120',\t'125',\t'130',\t'135',\t'140',\t'145',\t'150',\t'155',\t'160',\t'165',\t'170',\t'175',\t'180']\n",
    ")\n",
    "Anisotropy2D = Anisotropy2D.drop('r(mm)\\\\theta(°)',axis=1)"
   ]
  },
  {
   "cell_type": "code",
   "execution_count": 125,
   "metadata": {
    "executionInfo": {
     "elapsed": 8,
     "status": "ok",
     "timestamp": 1633710585720,
     "user": {
      "displayName": "Jaime Hipolito Cabrera Salcedo",
      "photoUrl": "https://lh3.googleusercontent.com/a-/AOh14GhhVKq-ZyUcUOiGIT07jqy0coDy1alzcwiAWLiznQo3t0oIN6Hgj7ZD7ob1Ib0B5nZu6Fu44qIsobHe5qpcgjQ3I4uTpqfgLWDz7Mvz1L_zdSHdiY0w53kb8tRebKtALT1S9Hj5NRGvzjuVzEh-5vn4EAkT4bdaHcLEPJpE2veN0594VSE__Npxdqkp37rRoKO9AKAh857jmHkMqcRQtBYqG1px2dZ6T9MYdxQ8Rh89adq8q7a0x_oXi4V8dClcyOIBAeLaZEszlDF-R8QSe5zKJBfTGZ1nNzRXRkFZaotZhisdqbbS3pAmkAWVOfQ85Vh_cwsHKFp8Y4muPrqyUkSRbsepsxJeSx6o73Y4FRFqC3oeA3EZB9GbURGxpNNViDgkpioXXu4SVwoX5UyP8LzVvhe3xO7TeYIjj6ACLIZPuwp6npGGBnRxu1OXGa_j3QAUo-oculPGdyi0G_bks3FKW5PkLVtMlKhxiN2Fuqj7YwLkK-OIegmyfj70NhSsKv11RAtgZl6WiIMIElNDqf1YX6JoNkDfIfM5P0F7YeR5XE-SsVPGFalENrj-kOjheV6lSlEOzaFbAQ-hn1n1zPgRQyhrdXJ42F7YXjfNqg2_2roottoZX41zEHDg7MSetUmogd7_05wgZpaKzAWz2f8iNdHefoAD3gZPAG1r1rutcqghwp1q5KsPaJC0TiWWj7oc5ji9Skx4LM0qOj9_6IdOR_rm8x9sETB7nbGVJ42LEzQw_Mb2JjT7dMnmfYjh_zZsrA=s64",
      "userId": "06362799441420365332"
     },
     "user_tz": 300
    },
    "id": "f7335174"
   },
   "outputs": [],
   "source": [
    "# cGy/h/U, cGy cm2/h\n",
    "DoseRateConstant = 1.1080 \n",
    "#Activity Ci\n",
    "Activity = 12\n",
    "#Air kerma rate constant (cGy cm2/h / mCi) = 4.082\n",
    "\n",
    "length=3.6 #mm\n",
    "\n",
    "RAKR = 52190 # uGy/h at 1 m\n",
    "CalDate = datetime(2020,11,18,13,9)\n",
    "MeanLife=73.83 # dias"
   ]
  },
  {
   "cell_type": "code",
   "execution_count": 126,
   "metadata": {
    "executionInfo": {
     "elapsed": 8,
     "status": "ok",
     "timestamp": 1633710585721,
     "user": {
      "displayName": "Jaime Hipolito Cabrera Salcedo",
      "photoUrl": "https://lh3.googleusercontent.com/a-/AOh14GhhVKq-ZyUcUOiGIT07jqy0coDy1alzcwiAWLiznQo3t0oIN6Hgj7ZD7ob1Ib0B5nZu6Fu44qIsobHe5qpcgjQ3I4uTpqfgLWDz7Mvz1L_zdSHdiY0w53kb8tRebKtALT1S9Hj5NRGvzjuVzEh-5vn4EAkT4bdaHcLEPJpE2veN0594VSE__Npxdqkp37rRoKO9AKAh857jmHkMqcRQtBYqG1px2dZ6T9MYdxQ8Rh89adq8q7a0x_oXi4V8dClcyOIBAeLaZEszlDF-R8QSe5zKJBfTGZ1nNzRXRkFZaotZhisdqbbS3pAmkAWVOfQ85Vh_cwsHKFp8Y4muPrqyUkSRbsepsxJeSx6o73Y4FRFqC3oeA3EZB9GbURGxpNNViDgkpioXXu4SVwoX5UyP8LzVvhe3xO7TeYIjj6ACLIZPuwp6npGGBnRxu1OXGa_j3QAUo-oculPGdyi0G_bks3FKW5PkLVtMlKhxiN2Fuqj7YwLkK-OIegmyfj70NhSsKv11RAtgZl6WiIMIElNDqf1YX6JoNkDfIfM5P0F7YeR5XE-SsVPGFalENrj-kOjheV6lSlEOzaFbAQ-hn1n1zPgRQyhrdXJ42F7YXjfNqg2_2roottoZX41zEHDg7MSetUmogd7_05wgZpaKzAWz2f8iNdHefoAD3gZPAG1r1rutcqghwp1q5KsPaJC0TiWWj7oc5ji9Skx4LM0qOj9_6IdOR_rm8x9sETB7nbGVJ42LEzQw_Mb2JjT7dMnmfYjh_zZsrA=s64",
      "userId": "06362799441420365332"
     },
     "user_tz": 300
    },
    "id": "27576020"
   },
   "outputs": [],
   "source": [
    "class SourceIr_192:\n",
    "  \"\"\"\n",
    "  Class of Source Ir-192\n",
    "  \"\"\"\n",
    "  def __init__(self, Activity,DoseRateConstant,Anisotropy2D,RadialDoseFuntion,length,RAKR,CalDate,MeanLife):\n",
    "    self.Activity=Activity\n",
    "    self.DoseRateConstant=DoseRateConstant\n",
    "    self.Anisotropy2D=Anisotropy2D\n",
    "    self.RadialDoseFuntion=RadialDoseFuntion\n",
    "    self.length=length\n",
    "    self.RAKR=RAKR\n",
    "    self.CalDate=CalDate\n",
    "    self.MeanLife=MeanLife\n",
    "\n",
    "  def myfunc(self):\n",
    "    print(\"Hello my name is \" + self.Activity)"
   ]
  },
  {
   "cell_type": "code",
   "execution_count": 127,
   "metadata": {
    "executionInfo": {
     "elapsed": 7,
     "status": "ok",
     "timestamp": 1633710585721,
     "user": {
      "displayName": "Jaime Hipolito Cabrera Salcedo",
      "photoUrl": "https://lh3.googleusercontent.com/a-/AOh14GhhVKq-ZyUcUOiGIT07jqy0coDy1alzcwiAWLiznQo3t0oIN6Hgj7ZD7ob1Ib0B5nZu6Fu44qIsobHe5qpcgjQ3I4uTpqfgLWDz7Mvz1L_zdSHdiY0w53kb8tRebKtALT1S9Hj5NRGvzjuVzEh-5vn4EAkT4bdaHcLEPJpE2veN0594VSE__Npxdqkp37rRoKO9AKAh857jmHkMqcRQtBYqG1px2dZ6T9MYdxQ8Rh89adq8q7a0x_oXi4V8dClcyOIBAeLaZEszlDF-R8QSe5zKJBfTGZ1nNzRXRkFZaotZhisdqbbS3pAmkAWVOfQ85Vh_cwsHKFp8Y4muPrqyUkSRbsepsxJeSx6o73Y4FRFqC3oeA3EZB9GbURGxpNNViDgkpioXXu4SVwoX5UyP8LzVvhe3xO7TeYIjj6ACLIZPuwp6npGGBnRxu1OXGa_j3QAUo-oculPGdyi0G_bks3FKW5PkLVtMlKhxiN2Fuqj7YwLkK-OIegmyfj70NhSsKv11RAtgZl6WiIMIElNDqf1YX6JoNkDfIfM5P0F7YeR5XE-SsVPGFalENrj-kOjheV6lSlEOzaFbAQ-hn1n1zPgRQyhrdXJ42F7YXjfNqg2_2roottoZX41zEHDg7MSetUmogd7_05wgZpaKzAWz2f8iNdHefoAD3gZPAG1r1rutcqghwp1q5KsPaJC0TiWWj7oc5ji9Skx4LM0qOj9_6IdOR_rm8x9sETB7nbGVJ42LEzQw_Mb2JjT7dMnmfYjh_zZsrA=s64",
      "userId": "06362799441420365332"
     },
     "user_tz": 300
    },
    "id": "7435667c"
   },
   "outputs": [],
   "source": [
    "fuente=SourceIr_192(Activity=Activity,DoseRateConstant=DoseRateConstant,Anisotropy2D=Anisotropy2D,RadialDoseFuntion=RadialDoseFuntion,length=length,RAKR=RAKR,CalDate=CalDate,MeanLife=MeanLife)"
   ]
  },
  {
   "cell_type": "code",
   "execution_count": 129,
   "metadata": {
    "executionInfo": {
     "elapsed": 8,
     "status": "ok",
     "timestamp": 1633710585722,
     "user": {
      "displayName": "Jaime Hipolito Cabrera Salcedo",
      "photoUrl": "https://lh3.googleusercontent.com/a-/AOh14GhhVKq-ZyUcUOiGIT07jqy0coDy1alzcwiAWLiznQo3t0oIN6Hgj7ZD7ob1Ib0B5nZu6Fu44qIsobHe5qpcgjQ3I4uTpqfgLWDz7Mvz1L_zdSHdiY0w53kb8tRebKtALT1S9Hj5NRGvzjuVzEh-5vn4EAkT4bdaHcLEPJpE2veN0594VSE__Npxdqkp37rRoKO9AKAh857jmHkMqcRQtBYqG1px2dZ6T9MYdxQ8Rh89adq8q7a0x_oXi4V8dClcyOIBAeLaZEszlDF-R8QSe5zKJBfTGZ1nNzRXRkFZaotZhisdqbbS3pAmkAWVOfQ85Vh_cwsHKFp8Y4muPrqyUkSRbsepsxJeSx6o73Y4FRFqC3oeA3EZB9GbURGxpNNViDgkpioXXu4SVwoX5UyP8LzVvhe3xO7TeYIjj6ACLIZPuwp6npGGBnRxu1OXGa_j3QAUo-oculPGdyi0G_bks3FKW5PkLVtMlKhxiN2Fuqj7YwLkK-OIegmyfj70NhSsKv11RAtgZl6WiIMIElNDqf1YX6JoNkDfIfM5P0F7YeR5XE-SsVPGFalENrj-kOjheV6lSlEOzaFbAQ-hn1n1zPgRQyhrdXJ42F7YXjfNqg2_2roottoZX41zEHDg7MSetUmogd7_05wgZpaKzAWz2f8iNdHefoAD3gZPAG1r1rutcqghwp1q5KsPaJC0TiWWj7oc5ji9Skx4LM0qOj9_6IdOR_rm8x9sETB7nbGVJ42LEzQw_Mb2JjT7dMnmfYjh_zZsrA=s64",
      "userId": "06362799441420365332"
     },
     "user_tz": 300
    },
    "id": "ef149732"
   },
   "outputs": [],
   "source": [
    "Position=pd.DataFrame(([[0,0,0],[1,0,0],[2,0,0]]),columns=['x','y','z'])\n",
    "calc_point=np.array([2,2,2])"
   ]
  },
  {
   "cell_type": "code",
   "execution_count": 123,
   "metadata": {},
   "outputs": [],
   "source": [
    "PlanDate = datetime(2021,1,21,8,30)\n",
    "# deltaPlanCal = (PlanDate-fuente.CalDate).days + (PlanDate-fuente.CalDate).seconds/(24*3600)\n",
    "# fuente.RAKR*np.exp(-np.log(2)*deltaPlanCal/fuente.MeanLife)\n",
    "\n",
    "def Dose_Rate(Position,calc_point,fuente,PlanDate):\n",
    "    deltaPlanCal = (PlanDate-fuente.CalDate).days + (PlanDate-fuente.CalDate).seconds/(24*3600)\n",
    "\n",
    "    Sk = fuente.RAKR*np.exp(-np.log(2)*deltaPlanCal/fuente.MeanLife)\n",
    "    r = calc_point-Position\n",
    "    a = pd.DataFrame([Position.loc[i,['x','y','z']] - Position.loc[i+1,['x','y','z']] if i!=len(Position)-1 else Position.loc[i-1,['x','y','z']] - Position.loc[i,['x','y','z']] for i in range(len(Position))]) \n",
    "    r_dot_a=[r.iloc[i].dot(a.iloc[i]) for i in range(len(r))]\n",
    "    r['modulo_r'] = r.apply(lambda x:np.linalg.norm(x), axis='columns')\n",
    "    a['modulo_a'] = a.apply(lambda x:np.linalg.norm(x), axis='columns')\n",
    "\n",
    "    theta = [np.degrees(np.arccos(r_dot_a[i]/(r.modulo_r[i]*a.modulo_a[i]))) for i in range(len(r_dot_a))]\n",
    "\n",
    "    a_norm = a[['x','y','z']].apply(lambda x:x/np.linalg.norm(x), axis='columns')\n",
    "\n",
    "    r1 = calc_point - (Position - a_norm*fuente.length/20)\n",
    "    r1_dot_a=[r1.iloc[i].dot(a[['x','y','z']].iloc[i]) for i in range(len(r1))]\n",
    "    r1['modulo_r1'] = r1.apply(lambda x:np.linalg.norm(x), axis='columns')\n",
    "    theta_1 = np.array([np.degrees(np.arccos(r1_dot_a[i]/(r1.modulo_r1[i]*a.modulo_a[i]))) for i in range(len(r1_dot_a))])\n",
    "\n",
    "    r2 = calc_point - (Position + a_norm*fuente.length/20)\n",
    "    r2_dot_a=[r2.iloc[i].dot(a[['x','y','z']].iloc[i]) for i in range(len(r2))]\n",
    "    r2['modulo_r2'] = r2.apply(lambda x:np.linalg.norm(x), axis='columns')\n",
    "    theta_2 = np.array([np.degrees(np.arccos(r2_dot_a[i]/(r2.modulo_r2[i]*a.modulo_a[i]))) for i in range(len(r2_dot_a))])\n",
    "\n",
    "    beta = np.radians(theta_2 - theta_1)\n",
    "\n",
    "    GL0 = 2*np.arctan(fuente.length/20)/(fuente.length/10)\n",
    "    GL_r_th = np.array([1/(r.modulo_r[i]**2-(fuente.length/20)**2) if (theta[i]==0 or theta[i]==180) else beta[i]/((fuente.length/10)*r.modulo_r[i]*np.sin(np.radians(theta[i]))) for i in range(len(beta))])\n",
    "\n",
    "    g_r = np.interp(r.modulo_r*10,RadialDoseFuntion['r(mm)'],RadialDoseFuntion['g(r)'])\n",
    "\n",
    "    x,y = np.meshgrid(np.linspace(0,180,37),np.linspace(0,50,11))\n",
    "    # Anisotropy2D.drop('r(mm)\\\\theta(°)',axis=1)\n",
    "    f = interpolate.interp2d(x,y,np.array(Anisotropy2D),kind='cubic')\n",
    "\n",
    "    F_r_th = np.array([(f(theta[i],r.modulo_r[i]*10))[0] for i in range(len(r))])\n",
    "    \n",
    "    return Sk*DoseRateConstant*(GL_r_th/GL0)*g_r*F_r_th.T"
   ]
  },
  {
   "cell_type": "code",
   "execution_count": 150,
   "metadata": {},
   "outputs": [],
   "source": [
    "def Dose(Catheters, Calc_Matrix, fuente, PlanDate):\n",
    "    DoseperMatrix=[]\n",
    "    for calc_point in Calc_Matrix:\n",
    "        DoseperCatheter=[]\n",
    "        for Position in Catheters:\n",
    "            DoseRate=Dose_Rate(Position[['x','y','z']],calc_point,fuente,PlanDate)\n",
    "            DoseperDwell = DoseRate*np.array(Position['time']/3600)\n",
    "            DoseperCatheter.append(DoseperDwell.sum())\n",
    "        DoseperCatheter = np.array(DoseperCatheter)\n",
    "        DoseperMatrix.append(DoseperCatheter.sum())\n",
    "    return DoseperMatrix"
   ]
  },
  {
   "cell_type": "code",
   "execution_count": 210,
   "metadata": {},
   "outputs": [
    {
     "name": "stderr",
     "output_type": "stream",
     "text": [
      "/home/jaimeh94/anaconda3/lib/python3.8/site-packages/scipy/interpolate/_fitpack_impl.py:977: RuntimeWarning: No more knots can be added because the number of B-spline\n",
      "coefficients already exceeds the number of data points m.\n",
      "Probable causes: either s or m too small. (fp>s)\n",
      "\tkx,ky=3,3 nx,ny=37,17 m=407 fp=0.000002 s=0.000000\n",
      "  warnings.warn(RuntimeWarning(_iermess2[ierm][0] + _mess))\n"
     ]
    },
    {
     "ename": "KeyboardInterrupt",
     "evalue": "",
     "output_type": "error",
     "traceback": [
      "\u001b[0;31m---------------------------------------------------------------------------\u001b[0m",
      "\u001b[0;31mKeyboardInterrupt\u001b[0m                         Traceback (most recent call last)",
      "\u001b[0;32m<ipython-input-210-ba7d41d66b8e>\u001b[0m in \u001b[0;36m<module>\u001b[0;34m\u001b[0m\n\u001b[1;32m      1\u001b[0m \u001b[0mCalc_Matrix\u001b[0m\u001b[0;34m=\u001b[0m\u001b[0;34m[\u001b[0m\u001b[0mnp\u001b[0m\u001b[0;34m.\u001b[0m\u001b[0marray\u001b[0m\u001b[0;34m(\u001b[0m\u001b[0;34m[\u001b[0m\u001b[0mi\u001b[0m\u001b[0;34m,\u001b[0m\u001b[0mj\u001b[0m\u001b[0;34m,\u001b[0m\u001b[0mk\u001b[0m\u001b[0;34m]\u001b[0m\u001b[0;34m)\u001b[0m \u001b[0;32mfor\u001b[0m \u001b[0mi\u001b[0m \u001b[0;32min\u001b[0m \u001b[0mnp\u001b[0m\u001b[0;34m.\u001b[0m\u001b[0mlinspace\u001b[0m\u001b[0;34m(\u001b[0m\u001b[0;34m-\u001b[0m\u001b[0;36m5\u001b[0m\u001b[0;34m,\u001b[0m\u001b[0;36m5\u001b[0m\u001b[0;34m,\u001b[0m\u001b[0;36m100\u001b[0m\u001b[0;34m)\u001b[0m \u001b[0;32mfor\u001b[0m \u001b[0mj\u001b[0m \u001b[0;32min\u001b[0m \u001b[0mnp\u001b[0m\u001b[0;34m.\u001b[0m\u001b[0mlinspace\u001b[0m\u001b[0;34m(\u001b[0m\u001b[0;34m-\u001b[0m\u001b[0;36m5\u001b[0m\u001b[0;34m,\u001b[0m\u001b[0;36m5\u001b[0m\u001b[0;34m,\u001b[0m\u001b[0;36m100\u001b[0m\u001b[0;34m)\u001b[0m \u001b[0;32mfor\u001b[0m \u001b[0mk\u001b[0m \u001b[0;32min\u001b[0m \u001b[0mnp\u001b[0m\u001b[0;34m.\u001b[0m\u001b[0mlinspace\u001b[0m\u001b[0;34m(\u001b[0m\u001b[0;34m-\u001b[0m\u001b[0;36m5\u001b[0m\u001b[0;34m,\u001b[0m\u001b[0;36m5\u001b[0m\u001b[0;34m,\u001b[0m\u001b[0;36m100\u001b[0m\u001b[0;34m)\u001b[0m\u001b[0;34m]\u001b[0m\u001b[0;34m\u001b[0m\u001b[0;34m\u001b[0m\u001b[0m\n\u001b[0;32m----> 2\u001b[0;31m \u001b[0mDosis\u001b[0m \u001b[0;34m=\u001b[0m \u001b[0mDose\u001b[0m\u001b[0;34m(\u001b[0m\u001b[0;34m[\u001b[0m\u001b[0mCatheter1\u001b[0m\u001b[0;34m,\u001b[0m\u001b[0mCatheter2\u001b[0m\u001b[0;34m]\u001b[0m\u001b[0;34m,\u001b[0m\u001b[0mCalc_Matrix\u001b[0m\u001b[0;34m,\u001b[0m\u001b[0mfuente\u001b[0m\u001b[0;34m,\u001b[0m\u001b[0mPlanDate\u001b[0m\u001b[0;34m)\u001b[0m\u001b[0;34m\u001b[0m\u001b[0;34m\u001b[0m\u001b[0m\n\u001b[0m",
      "\u001b[0;32m<ipython-input-150-36ce5cde7ca9>\u001b[0m in \u001b[0;36mDose\u001b[0;34m(Catheters, Calc_Matrix, fuente, PlanDate)\u001b[0m\n\u001b[1;32m      4\u001b[0m         \u001b[0mDoseperCatheter\u001b[0m\u001b[0;34m=\u001b[0m\u001b[0;34m[\u001b[0m\u001b[0;34m]\u001b[0m\u001b[0;34m\u001b[0m\u001b[0;34m\u001b[0m\u001b[0m\n\u001b[1;32m      5\u001b[0m         \u001b[0;32mfor\u001b[0m \u001b[0mPosition\u001b[0m \u001b[0;32min\u001b[0m \u001b[0mCatheters\u001b[0m\u001b[0;34m:\u001b[0m\u001b[0;34m\u001b[0m\u001b[0;34m\u001b[0m\u001b[0m\n\u001b[0;32m----> 6\u001b[0;31m             \u001b[0mDoseRate\u001b[0m\u001b[0;34m=\u001b[0m\u001b[0mDose_Rate\u001b[0m\u001b[0;34m(\u001b[0m\u001b[0mPosition\u001b[0m\u001b[0;34m[\u001b[0m\u001b[0;34m[\u001b[0m\u001b[0;34m'x'\u001b[0m\u001b[0;34m,\u001b[0m\u001b[0;34m'y'\u001b[0m\u001b[0;34m,\u001b[0m\u001b[0;34m'z'\u001b[0m\u001b[0;34m]\u001b[0m\u001b[0;34m]\u001b[0m\u001b[0;34m,\u001b[0m\u001b[0mcalc_point\u001b[0m\u001b[0;34m,\u001b[0m\u001b[0mfuente\u001b[0m\u001b[0;34m,\u001b[0m\u001b[0mPlanDate\u001b[0m\u001b[0;34m)\u001b[0m\u001b[0;34m\u001b[0m\u001b[0;34m\u001b[0m\u001b[0m\n\u001b[0m\u001b[1;32m      7\u001b[0m             \u001b[0mDoseperDwell\u001b[0m \u001b[0;34m=\u001b[0m \u001b[0mDoseRate\u001b[0m\u001b[0;34m*\u001b[0m\u001b[0mnp\u001b[0m\u001b[0;34m.\u001b[0m\u001b[0marray\u001b[0m\u001b[0;34m(\u001b[0m\u001b[0mPosition\u001b[0m\u001b[0;34m[\u001b[0m\u001b[0;34m'time'\u001b[0m\u001b[0;34m]\u001b[0m\u001b[0;34m/\u001b[0m\u001b[0;36m3600\u001b[0m\u001b[0;34m)\u001b[0m\u001b[0;34m\u001b[0m\u001b[0;34m\u001b[0m\u001b[0m\n\u001b[1;32m      8\u001b[0m             \u001b[0mDoseperCatheter\u001b[0m\u001b[0;34m.\u001b[0m\u001b[0mappend\u001b[0m\u001b[0;34m(\u001b[0m\u001b[0mDoseperDwell\u001b[0m\u001b[0;34m.\u001b[0m\u001b[0msum\u001b[0m\u001b[0;34m(\u001b[0m\u001b[0;34m)\u001b[0m\u001b[0;34m)\u001b[0m\u001b[0;34m\u001b[0m\u001b[0;34m\u001b[0m\u001b[0m\n",
      "\u001b[0;32m<ipython-input-123-56dbe525faa0>\u001b[0m in \u001b[0;36mDose_Rate\u001b[0;34m(Position, calc_point, fuente, PlanDate)\u001b[0m\n\u001b[1;32m     15\u001b[0m     \u001b[0mtheta\u001b[0m \u001b[0;34m=\u001b[0m \u001b[0;34m[\u001b[0m\u001b[0mnp\u001b[0m\u001b[0;34m.\u001b[0m\u001b[0mdegrees\u001b[0m\u001b[0;34m(\u001b[0m\u001b[0mnp\u001b[0m\u001b[0;34m.\u001b[0m\u001b[0marccos\u001b[0m\u001b[0;34m(\u001b[0m\u001b[0mr_dot_a\u001b[0m\u001b[0;34m[\u001b[0m\u001b[0mi\u001b[0m\u001b[0;34m]\u001b[0m\u001b[0;34m/\u001b[0m\u001b[0;34m(\u001b[0m\u001b[0mr\u001b[0m\u001b[0;34m.\u001b[0m\u001b[0mmodulo_r\u001b[0m\u001b[0;34m[\u001b[0m\u001b[0mi\u001b[0m\u001b[0;34m]\u001b[0m\u001b[0;34m*\u001b[0m\u001b[0ma\u001b[0m\u001b[0;34m.\u001b[0m\u001b[0mmodulo_a\u001b[0m\u001b[0;34m[\u001b[0m\u001b[0mi\u001b[0m\u001b[0;34m]\u001b[0m\u001b[0;34m)\u001b[0m\u001b[0;34m)\u001b[0m\u001b[0;34m)\u001b[0m \u001b[0;32mfor\u001b[0m \u001b[0mi\u001b[0m \u001b[0;32min\u001b[0m \u001b[0mrange\u001b[0m\u001b[0;34m(\u001b[0m\u001b[0mlen\u001b[0m\u001b[0;34m(\u001b[0m\u001b[0mr_dot_a\u001b[0m\u001b[0;34m)\u001b[0m\u001b[0;34m)\u001b[0m\u001b[0;34m]\u001b[0m\u001b[0;34m\u001b[0m\u001b[0;34m\u001b[0m\u001b[0m\n\u001b[1;32m     16\u001b[0m \u001b[0;34m\u001b[0m\u001b[0m\n\u001b[0;32m---> 17\u001b[0;31m     \u001b[0ma_norm\u001b[0m \u001b[0;34m=\u001b[0m \u001b[0ma\u001b[0m\u001b[0;34m[\u001b[0m\u001b[0;34m[\u001b[0m\u001b[0;34m'x'\u001b[0m\u001b[0;34m,\u001b[0m\u001b[0;34m'y'\u001b[0m\u001b[0;34m,\u001b[0m\u001b[0;34m'z'\u001b[0m\u001b[0;34m]\u001b[0m\u001b[0;34m]\u001b[0m\u001b[0;34m.\u001b[0m\u001b[0mapply\u001b[0m\u001b[0;34m(\u001b[0m\u001b[0;32mlambda\u001b[0m \u001b[0mx\u001b[0m\u001b[0;34m:\u001b[0m\u001b[0mx\u001b[0m\u001b[0;34m/\u001b[0m\u001b[0mnp\u001b[0m\u001b[0;34m.\u001b[0m\u001b[0mlinalg\u001b[0m\u001b[0;34m.\u001b[0m\u001b[0mnorm\u001b[0m\u001b[0;34m(\u001b[0m\u001b[0mx\u001b[0m\u001b[0;34m)\u001b[0m\u001b[0;34m,\u001b[0m \u001b[0maxis\u001b[0m\u001b[0;34m=\u001b[0m\u001b[0;34m'columns'\u001b[0m\u001b[0;34m)\u001b[0m\u001b[0;34m\u001b[0m\u001b[0;34m\u001b[0m\u001b[0m\n\u001b[0m\u001b[1;32m     18\u001b[0m \u001b[0;34m\u001b[0m\u001b[0m\n\u001b[1;32m     19\u001b[0m     \u001b[0mr1\u001b[0m \u001b[0;34m=\u001b[0m \u001b[0mcalc_point\u001b[0m \u001b[0;34m-\u001b[0m \u001b[0;34m(\u001b[0m\u001b[0mPosition\u001b[0m \u001b[0;34m-\u001b[0m \u001b[0ma_norm\u001b[0m\u001b[0;34m*\u001b[0m\u001b[0mfuente\u001b[0m\u001b[0;34m.\u001b[0m\u001b[0mlength\u001b[0m\u001b[0;34m/\u001b[0m\u001b[0;36m20\u001b[0m\u001b[0;34m)\u001b[0m\u001b[0;34m\u001b[0m\u001b[0;34m\u001b[0m\u001b[0m\n",
      "\u001b[0;32m~/anaconda3/lib/python3.8/site-packages/pandas/core/frame.py\u001b[0m in \u001b[0;36mapply\u001b[0;34m(self, func, axis, raw, result_type, args, **kwds)\u001b[0m\n\u001b[1;32m   7766\u001b[0m             \u001b[0mkwds\u001b[0m\u001b[0;34m=\u001b[0m\u001b[0mkwds\u001b[0m\u001b[0;34m,\u001b[0m\u001b[0;34m\u001b[0m\u001b[0;34m\u001b[0m\u001b[0m\n\u001b[1;32m   7767\u001b[0m         )\n\u001b[0;32m-> 7768\u001b[0;31m         \u001b[0;32mreturn\u001b[0m \u001b[0mop\u001b[0m\u001b[0;34m.\u001b[0m\u001b[0mget_result\u001b[0m\u001b[0;34m(\u001b[0m\u001b[0;34m)\u001b[0m\u001b[0;34m\u001b[0m\u001b[0;34m\u001b[0m\u001b[0m\n\u001b[0m\u001b[1;32m   7769\u001b[0m \u001b[0;34m\u001b[0m\u001b[0m\n\u001b[1;32m   7770\u001b[0m     \u001b[0;32mdef\u001b[0m \u001b[0mapplymap\u001b[0m\u001b[0;34m(\u001b[0m\u001b[0mself\u001b[0m\u001b[0;34m,\u001b[0m \u001b[0mfunc\u001b[0m\u001b[0;34m,\u001b[0m \u001b[0mna_action\u001b[0m\u001b[0;34m:\u001b[0m \u001b[0mOptional\u001b[0m\u001b[0;34m[\u001b[0m\u001b[0mstr\u001b[0m\u001b[0;34m]\u001b[0m \u001b[0;34m=\u001b[0m \u001b[0;32mNone\u001b[0m\u001b[0;34m)\u001b[0m \u001b[0;34m->\u001b[0m \u001b[0mDataFrame\u001b[0m\u001b[0;34m:\u001b[0m\u001b[0;34m\u001b[0m\u001b[0;34m\u001b[0m\u001b[0m\n",
      "\u001b[0;32m~/anaconda3/lib/python3.8/site-packages/pandas/core/apply.py\u001b[0m in \u001b[0;36mget_result\u001b[0;34m(self)\u001b[0m\n\u001b[1;32m    183\u001b[0m             \u001b[0;32mreturn\u001b[0m \u001b[0mself\u001b[0m\u001b[0;34m.\u001b[0m\u001b[0mapply_raw\u001b[0m\u001b[0;34m(\u001b[0m\u001b[0;34m)\u001b[0m\u001b[0;34m\u001b[0m\u001b[0;34m\u001b[0m\u001b[0m\n\u001b[1;32m    184\u001b[0m \u001b[0;34m\u001b[0m\u001b[0m\n\u001b[0;32m--> 185\u001b[0;31m         \u001b[0;32mreturn\u001b[0m \u001b[0mself\u001b[0m\u001b[0;34m.\u001b[0m\u001b[0mapply_standard\u001b[0m\u001b[0;34m(\u001b[0m\u001b[0;34m)\u001b[0m\u001b[0;34m\u001b[0m\u001b[0;34m\u001b[0m\u001b[0m\n\u001b[0m\u001b[1;32m    186\u001b[0m \u001b[0;34m\u001b[0m\u001b[0m\n\u001b[1;32m    187\u001b[0m     \u001b[0;32mdef\u001b[0m \u001b[0mapply_empty_result\u001b[0m\u001b[0;34m(\u001b[0m\u001b[0mself\u001b[0m\u001b[0;34m)\u001b[0m\u001b[0;34m:\u001b[0m\u001b[0;34m\u001b[0m\u001b[0;34m\u001b[0m\u001b[0m\n",
      "\u001b[0;32m~/anaconda3/lib/python3.8/site-packages/pandas/core/apply.py\u001b[0m in \u001b[0;36mapply_standard\u001b[0;34m(self)\u001b[0m\n\u001b[1;32m    274\u001b[0m \u001b[0;34m\u001b[0m\u001b[0m\n\u001b[1;32m    275\u001b[0m     \u001b[0;32mdef\u001b[0m \u001b[0mapply_standard\u001b[0m\u001b[0;34m(\u001b[0m\u001b[0mself\u001b[0m\u001b[0;34m)\u001b[0m\u001b[0;34m:\u001b[0m\u001b[0;34m\u001b[0m\u001b[0;34m\u001b[0m\u001b[0m\n\u001b[0;32m--> 276\u001b[0;31m         \u001b[0mresults\u001b[0m\u001b[0;34m,\u001b[0m \u001b[0mres_index\u001b[0m \u001b[0;34m=\u001b[0m \u001b[0mself\u001b[0m\u001b[0;34m.\u001b[0m\u001b[0mapply_series_generator\u001b[0m\u001b[0;34m(\u001b[0m\u001b[0;34m)\u001b[0m\u001b[0;34m\u001b[0m\u001b[0;34m\u001b[0m\u001b[0m\n\u001b[0m\u001b[1;32m    277\u001b[0m \u001b[0;34m\u001b[0m\u001b[0m\n\u001b[1;32m    278\u001b[0m         \u001b[0;31m# wrap results\u001b[0m\u001b[0;34m\u001b[0m\u001b[0;34m\u001b[0m\u001b[0;34m\u001b[0m\u001b[0m\n",
      "\u001b[0;32m~/anaconda3/lib/python3.8/site-packages/pandas/core/apply.py\u001b[0m in \u001b[0;36mapply_series_generator\u001b[0;34m(self)\u001b[0m\n\u001b[1;32m    288\u001b[0m             \u001b[0;32mfor\u001b[0m \u001b[0mi\u001b[0m\u001b[0;34m,\u001b[0m \u001b[0mv\u001b[0m \u001b[0;32min\u001b[0m \u001b[0menumerate\u001b[0m\u001b[0;34m(\u001b[0m\u001b[0mseries_gen\u001b[0m\u001b[0;34m)\u001b[0m\u001b[0;34m:\u001b[0m\u001b[0;34m\u001b[0m\u001b[0;34m\u001b[0m\u001b[0m\n\u001b[1;32m    289\u001b[0m                 \u001b[0;31m# ignore SettingWithCopy here in case the user mutates\u001b[0m\u001b[0;34m\u001b[0m\u001b[0;34m\u001b[0m\u001b[0;34m\u001b[0m\u001b[0m\n\u001b[0;32m--> 290\u001b[0;31m                 \u001b[0mresults\u001b[0m\u001b[0;34m[\u001b[0m\u001b[0mi\u001b[0m\u001b[0;34m]\u001b[0m \u001b[0;34m=\u001b[0m \u001b[0mself\u001b[0m\u001b[0;34m.\u001b[0m\u001b[0mf\u001b[0m\u001b[0;34m(\u001b[0m\u001b[0mv\u001b[0m\u001b[0;34m)\u001b[0m\u001b[0;34m\u001b[0m\u001b[0;34m\u001b[0m\u001b[0m\n\u001b[0m\u001b[1;32m    291\u001b[0m                 \u001b[0;32mif\u001b[0m \u001b[0misinstance\u001b[0m\u001b[0;34m(\u001b[0m\u001b[0mresults\u001b[0m\u001b[0;34m[\u001b[0m\u001b[0mi\u001b[0m\u001b[0;34m]\u001b[0m\u001b[0;34m,\u001b[0m \u001b[0mABCSeries\u001b[0m\u001b[0;34m)\u001b[0m\u001b[0;34m:\u001b[0m\u001b[0;34m\u001b[0m\u001b[0;34m\u001b[0m\u001b[0m\n\u001b[1;32m    292\u001b[0m                     \u001b[0;31m# If we have a view on v, we need to make a copy because\u001b[0m\u001b[0;34m\u001b[0m\u001b[0;34m\u001b[0m\u001b[0;34m\u001b[0m\u001b[0m\n",
      "\u001b[0;32m<ipython-input-123-56dbe525faa0>\u001b[0m in \u001b[0;36m<lambda>\u001b[0;34m(x)\u001b[0m\n\u001b[1;32m     15\u001b[0m     \u001b[0mtheta\u001b[0m \u001b[0;34m=\u001b[0m \u001b[0;34m[\u001b[0m\u001b[0mnp\u001b[0m\u001b[0;34m.\u001b[0m\u001b[0mdegrees\u001b[0m\u001b[0;34m(\u001b[0m\u001b[0mnp\u001b[0m\u001b[0;34m.\u001b[0m\u001b[0marccos\u001b[0m\u001b[0;34m(\u001b[0m\u001b[0mr_dot_a\u001b[0m\u001b[0;34m[\u001b[0m\u001b[0mi\u001b[0m\u001b[0;34m]\u001b[0m\u001b[0;34m/\u001b[0m\u001b[0;34m(\u001b[0m\u001b[0mr\u001b[0m\u001b[0;34m.\u001b[0m\u001b[0mmodulo_r\u001b[0m\u001b[0;34m[\u001b[0m\u001b[0mi\u001b[0m\u001b[0;34m]\u001b[0m\u001b[0;34m*\u001b[0m\u001b[0ma\u001b[0m\u001b[0;34m.\u001b[0m\u001b[0mmodulo_a\u001b[0m\u001b[0;34m[\u001b[0m\u001b[0mi\u001b[0m\u001b[0;34m]\u001b[0m\u001b[0;34m)\u001b[0m\u001b[0;34m)\u001b[0m\u001b[0;34m)\u001b[0m \u001b[0;32mfor\u001b[0m \u001b[0mi\u001b[0m \u001b[0;32min\u001b[0m \u001b[0mrange\u001b[0m\u001b[0;34m(\u001b[0m\u001b[0mlen\u001b[0m\u001b[0;34m(\u001b[0m\u001b[0mr_dot_a\u001b[0m\u001b[0;34m)\u001b[0m\u001b[0;34m)\u001b[0m\u001b[0;34m]\u001b[0m\u001b[0;34m\u001b[0m\u001b[0;34m\u001b[0m\u001b[0m\n\u001b[1;32m     16\u001b[0m \u001b[0;34m\u001b[0m\u001b[0m\n\u001b[0;32m---> 17\u001b[0;31m     \u001b[0ma_norm\u001b[0m \u001b[0;34m=\u001b[0m \u001b[0ma\u001b[0m\u001b[0;34m[\u001b[0m\u001b[0;34m[\u001b[0m\u001b[0;34m'x'\u001b[0m\u001b[0;34m,\u001b[0m\u001b[0;34m'y'\u001b[0m\u001b[0;34m,\u001b[0m\u001b[0;34m'z'\u001b[0m\u001b[0;34m]\u001b[0m\u001b[0;34m]\u001b[0m\u001b[0;34m.\u001b[0m\u001b[0mapply\u001b[0m\u001b[0;34m(\u001b[0m\u001b[0;32mlambda\u001b[0m \u001b[0mx\u001b[0m\u001b[0;34m:\u001b[0m\u001b[0mx\u001b[0m\u001b[0;34m/\u001b[0m\u001b[0mnp\u001b[0m\u001b[0;34m.\u001b[0m\u001b[0mlinalg\u001b[0m\u001b[0;34m.\u001b[0m\u001b[0mnorm\u001b[0m\u001b[0;34m(\u001b[0m\u001b[0mx\u001b[0m\u001b[0;34m)\u001b[0m\u001b[0;34m,\u001b[0m \u001b[0maxis\u001b[0m\u001b[0;34m=\u001b[0m\u001b[0;34m'columns'\u001b[0m\u001b[0;34m)\u001b[0m\u001b[0;34m\u001b[0m\u001b[0;34m\u001b[0m\u001b[0m\n\u001b[0m\u001b[1;32m     18\u001b[0m \u001b[0;34m\u001b[0m\u001b[0m\n\u001b[1;32m     19\u001b[0m     \u001b[0mr1\u001b[0m \u001b[0;34m=\u001b[0m \u001b[0mcalc_point\u001b[0m \u001b[0;34m-\u001b[0m \u001b[0;34m(\u001b[0m\u001b[0mPosition\u001b[0m \u001b[0;34m-\u001b[0m \u001b[0ma_norm\u001b[0m\u001b[0;34m*\u001b[0m\u001b[0mfuente\u001b[0m\u001b[0;34m.\u001b[0m\u001b[0mlength\u001b[0m\u001b[0;34m/\u001b[0m\u001b[0;36m20\u001b[0m\u001b[0;34m)\u001b[0m\u001b[0;34m\u001b[0m\u001b[0;34m\u001b[0m\u001b[0m\n",
      "\u001b[0;32m<__array_function__ internals>\u001b[0m in \u001b[0;36mnorm\u001b[0;34m(*args, **kwargs)\u001b[0m\n",
      "\u001b[0;32m~/anaconda3/lib/python3.8/site-packages/numpy/linalg/linalg.py\u001b[0m in \u001b[0;36mnorm\u001b[0;34m(x, ord, axis, keepdims)\u001b[0m\n\u001b[1;32m   2511\u001b[0m \u001b[0;34m\u001b[0m\u001b[0m\n\u001b[1;32m   2512\u001b[0m     \"\"\"\n\u001b[0;32m-> 2513\u001b[0;31m     \u001b[0mx\u001b[0m \u001b[0;34m=\u001b[0m \u001b[0masarray\u001b[0m\u001b[0;34m(\u001b[0m\u001b[0mx\u001b[0m\u001b[0;34m)\u001b[0m\u001b[0;34m\u001b[0m\u001b[0;34m\u001b[0m\u001b[0m\n\u001b[0m\u001b[1;32m   2514\u001b[0m \u001b[0;34m\u001b[0m\u001b[0m\n\u001b[1;32m   2515\u001b[0m     \u001b[0;32mif\u001b[0m \u001b[0;32mnot\u001b[0m \u001b[0missubclass\u001b[0m\u001b[0;34m(\u001b[0m\u001b[0mx\u001b[0m\u001b[0;34m.\u001b[0m\u001b[0mdtype\u001b[0m\u001b[0;34m.\u001b[0m\u001b[0mtype\u001b[0m\u001b[0;34m,\u001b[0m \u001b[0;34m(\u001b[0m\u001b[0minexact\u001b[0m\u001b[0;34m,\u001b[0m \u001b[0mobject_\u001b[0m\u001b[0;34m)\u001b[0m\u001b[0;34m)\u001b[0m\u001b[0;34m:\u001b[0m\u001b[0;34m\u001b[0m\u001b[0;34m\u001b[0m\u001b[0m\n",
      "\u001b[0;32m~/anaconda3/lib/python3.8/site-packages/numpy/core/_asarray.py\u001b[0m in \u001b[0;36masarray\u001b[0;34m(a, dtype, order, like)\u001b[0m\n\u001b[1;32m    100\u001b[0m         \u001b[0;32mreturn\u001b[0m \u001b[0m_asarray_with_like\u001b[0m\u001b[0;34m(\u001b[0m\u001b[0ma\u001b[0m\u001b[0;34m,\u001b[0m \u001b[0mdtype\u001b[0m\u001b[0;34m=\u001b[0m\u001b[0mdtype\u001b[0m\u001b[0;34m,\u001b[0m \u001b[0morder\u001b[0m\u001b[0;34m=\u001b[0m\u001b[0morder\u001b[0m\u001b[0;34m,\u001b[0m \u001b[0mlike\u001b[0m\u001b[0;34m=\u001b[0m\u001b[0mlike\u001b[0m\u001b[0;34m)\u001b[0m\u001b[0;34m\u001b[0m\u001b[0;34m\u001b[0m\u001b[0m\n\u001b[1;32m    101\u001b[0m \u001b[0;34m\u001b[0m\u001b[0m\n\u001b[0;32m--> 102\u001b[0;31m     \u001b[0;32mreturn\u001b[0m \u001b[0marray\u001b[0m\u001b[0;34m(\u001b[0m\u001b[0ma\u001b[0m\u001b[0;34m,\u001b[0m \u001b[0mdtype\u001b[0m\u001b[0;34m,\u001b[0m \u001b[0mcopy\u001b[0m\u001b[0;34m=\u001b[0m\u001b[0;32mFalse\u001b[0m\u001b[0;34m,\u001b[0m \u001b[0morder\u001b[0m\u001b[0;34m=\u001b[0m\u001b[0morder\u001b[0m\u001b[0;34m)\u001b[0m\u001b[0;34m\u001b[0m\u001b[0;34m\u001b[0m\u001b[0m\n\u001b[0m\u001b[1;32m    103\u001b[0m \u001b[0;34m\u001b[0m\u001b[0m\n\u001b[1;32m    104\u001b[0m \u001b[0;34m\u001b[0m\u001b[0m\n",
      "\u001b[0;32m~/anaconda3/lib/python3.8/site-packages/pandas/core/series.py\u001b[0m in \u001b[0;36m__array__\u001b[0;34m(self, dtype)\u001b[0m\n\u001b[1;32m    766\u001b[0m               dtype='datetime64[ns]')\n\u001b[1;32m    767\u001b[0m         \"\"\"\n\u001b[0;32m--> 768\u001b[0;31m         \u001b[0;32mreturn\u001b[0m \u001b[0mnp\u001b[0m\u001b[0;34m.\u001b[0m\u001b[0masarray\u001b[0m\u001b[0;34m(\u001b[0m\u001b[0mself\u001b[0m\u001b[0;34m.\u001b[0m\u001b[0marray\u001b[0m\u001b[0;34m,\u001b[0m \u001b[0mdtype\u001b[0m\u001b[0;34m)\u001b[0m\u001b[0;34m\u001b[0m\u001b[0;34m\u001b[0m\u001b[0m\n\u001b[0m\u001b[1;32m    769\u001b[0m \u001b[0;34m\u001b[0m\u001b[0m\n\u001b[1;32m    770\u001b[0m     \u001b[0;31m# ----------------------------------------------------------------------\u001b[0m\u001b[0;34m\u001b[0m\u001b[0;34m\u001b[0m\u001b[0;34m\u001b[0m\u001b[0m\n",
      "\u001b[0;32m~/anaconda3/lib/python3.8/site-packages/numpy/core/_asarray.py\u001b[0m in \u001b[0;36masarray\u001b[0;34m(a, dtype, order, like)\u001b[0m\n\u001b[1;32m    100\u001b[0m         \u001b[0;32mreturn\u001b[0m \u001b[0m_asarray_with_like\u001b[0m\u001b[0;34m(\u001b[0m\u001b[0ma\u001b[0m\u001b[0;34m,\u001b[0m \u001b[0mdtype\u001b[0m\u001b[0;34m=\u001b[0m\u001b[0mdtype\u001b[0m\u001b[0;34m,\u001b[0m \u001b[0morder\u001b[0m\u001b[0;34m=\u001b[0m\u001b[0morder\u001b[0m\u001b[0;34m,\u001b[0m \u001b[0mlike\u001b[0m\u001b[0;34m=\u001b[0m\u001b[0mlike\u001b[0m\u001b[0;34m)\u001b[0m\u001b[0;34m\u001b[0m\u001b[0;34m\u001b[0m\u001b[0m\n\u001b[1;32m    101\u001b[0m \u001b[0;34m\u001b[0m\u001b[0m\n\u001b[0;32m--> 102\u001b[0;31m     \u001b[0;32mreturn\u001b[0m \u001b[0marray\u001b[0m\u001b[0;34m(\u001b[0m\u001b[0ma\u001b[0m\u001b[0;34m,\u001b[0m \u001b[0mdtype\u001b[0m\u001b[0;34m,\u001b[0m \u001b[0mcopy\u001b[0m\u001b[0;34m=\u001b[0m\u001b[0;32mFalse\u001b[0m\u001b[0;34m,\u001b[0m \u001b[0morder\u001b[0m\u001b[0;34m=\u001b[0m\u001b[0morder\u001b[0m\u001b[0;34m)\u001b[0m\u001b[0;34m\u001b[0m\u001b[0;34m\u001b[0m\u001b[0m\n\u001b[0m\u001b[1;32m    103\u001b[0m \u001b[0;34m\u001b[0m\u001b[0m\n\u001b[1;32m    104\u001b[0m \u001b[0;34m\u001b[0m\u001b[0m\n",
      "\u001b[0;32m~/anaconda3/lib/python3.8/site-packages/pandas/core/arrays/numpy_.py\u001b[0m in \u001b[0;36m__array__\u001b[0;34m(self, dtype)\u001b[0m\n\u001b[1;32m    200\u001b[0m     \u001b[0;31m# NumPy Array Interface\u001b[0m\u001b[0;34m\u001b[0m\u001b[0;34m\u001b[0m\u001b[0;34m\u001b[0m\u001b[0m\n\u001b[1;32m    201\u001b[0m \u001b[0;34m\u001b[0m\u001b[0m\n\u001b[0;32m--> 202\u001b[0;31m     \u001b[0;32mdef\u001b[0m \u001b[0m__array__\u001b[0m\u001b[0;34m(\u001b[0m\u001b[0mself\u001b[0m\u001b[0;34m,\u001b[0m \u001b[0mdtype\u001b[0m\u001b[0;34m=\u001b[0m\u001b[0;32mNone\u001b[0m\u001b[0;34m)\u001b[0m \u001b[0;34m->\u001b[0m \u001b[0mnp\u001b[0m\u001b[0;34m.\u001b[0m\u001b[0mndarray\u001b[0m\u001b[0;34m:\u001b[0m\u001b[0;34m\u001b[0m\u001b[0;34m\u001b[0m\u001b[0m\n\u001b[0m\u001b[1;32m    203\u001b[0m         \u001b[0;32mreturn\u001b[0m \u001b[0mnp\u001b[0m\u001b[0;34m.\u001b[0m\u001b[0masarray\u001b[0m\u001b[0;34m(\u001b[0m\u001b[0mself\u001b[0m\u001b[0;34m.\u001b[0m\u001b[0m_ndarray\u001b[0m\u001b[0;34m,\u001b[0m \u001b[0mdtype\u001b[0m\u001b[0;34m=\u001b[0m\u001b[0mdtype\u001b[0m\u001b[0;34m)\u001b[0m\u001b[0;34m\u001b[0m\u001b[0;34m\u001b[0m\u001b[0m\n\u001b[1;32m    204\u001b[0m \u001b[0;34m\u001b[0m\u001b[0m\n",
      "\u001b[0;31mKeyboardInterrupt\u001b[0m: "
     ]
    }
   ],
   "source": [
    "Calc_Matrix=[np.array([i,j,k]) for i in np.linspace(-5,5,100) for j in np.linspace(-5,5,100) for k in np.linspace(-5,5,100)]\n",
    "Dosis = Dose([Catheter1,Catheter2],Calc_Matrix,fuente,PlanDate)"
   ]
  },
  {
   "cell_type": "code",
   "execution_count": 211,
   "metadata": {},
   "outputs": [
    {
     "data": {
      "text/plain": [
       "[249.29012470702128,\n",
       " 431.416081605342,\n",
       " 838.6820866127395,\n",
       " 1570.3109992413292,\n",
       " 1300.8362253908963,\n",
       " 226.68006956722468,\n",
       " 364.6699475095986,\n",
       " 596.4719634668036,\n",
       " 982.0498863886578,\n",
       " 1248.6230167567362,\n",
       " 176.48342205534613,\n",
       " 288.2681412825423,\n",
       " 457.4416871363885,\n",
       " 803.0301882377848,\n",
       " 1430.297508804318,\n",
       " 160.13707706218707,\n",
       " 222.62473617643374,\n",
       " 335.3904178144663,\n",
       " 581.0164683402346,\n",
       " 1185.8815185198903,\n",
       " 128.2121108049961,\n",
       " 172.1538728393172,\n",
       " 253.0331180812574,\n",
       " 378.6435074714709,\n",
       " 620.5952910265091,\n",
       " 266.00235114481217,\n",
       " 484.30239237720866,\n",
       " 968.4584397290168,\n",
       " 3108.3553756411625,\n",
       " 1813.8442331162034,\n",
       " 243.79925323462473,\n",
       " 394.7759536604742,\n",
       " 668.1204672847844,\n",
       " 1287.648628113825,\n",
       " 2325.3281490957247,\n",
       " 183.9334751673175,\n",
       " 310.73951813727194,\n",
       " 501.1141969557146,\n",
       " 1004.4785655895619,\n",
       " 3151.052877103658,\n",
       " 169.79656855101967,\n",
       " 233.24655636985992,\n",
       " 360.87253306951084,\n",
       " 670.7994759064659,\n",
       " 2068.850968343324,\n",
       " 135.65177167115968,\n",
       " 178.08493069623796,\n",
       " 266.38663817202576,\n",
       " 414.3189962423533,\n",
       " 811.7845444521641,\n",
       " 270.72332298069944,\n",
       " 456.24861891069736,\n",
       " 829.7256037163452,\n",
       " 1293.0333515888324,\n",
       " 1133.2504502482846,\n",
       " 231.59168282957125,\n",
       " 367.46230201461174,\n",
       " 572.0743033234216,\n",
       " 828.9322091374629,\n",
       " 913.901045004176,\n",
       " 194.19090343605313,\n",
       " 285.0915751129555,\n",
       " 429.670959068529,\n",
       " 646.0493479016318,\n",
       " 847.5081417724939,\n",
       " 149.0813887819819,\n",
       " 222.41130389528334,\n",
       " 305.73484104630427,\n",
       " 474.240883368356,\n",
       " 668.2947360400033,\n",
       " 115.20089238458431,\n",
       " 177.18396246469098,\n",
       " 237.57209398769578,\n",
       " 328.8229693948793,\n",
       " 440.28174354442547,\n",
       " 226.82478866686031,\n",
       " 370.5917325535211,\n",
       " 601.7382438781774,\n",
       " 857.1343804566785,\n",
       " 771.4054464933192,\n",
       " 206.20418233629542,\n",
       " 293.179114913608,\n",
       " 429.4444934062944,\n",
       " 538.2678244874364,\n",
       " 543.0435116445625,\n",
       " 161.15630233268865,\n",
       " 240.7194006292335,\n",
       " 318.2194822811007,\n",
       " 407.2626247781751,\n",
       " 439.0884766718715,\n",
       " 131.25164452638552,\n",
       " 190.10704808138024,\n",
       " 239.9586340008238,\n",
       " 315.22774905102307,\n",
       " 354.6324657339434,\n",
       " 121.72827582039531,\n",
       " 150.56350595815778,\n",
       " 192.05391353250565,\n",
       " 227.8341392333236,\n",
       " 255.53059664667578,\n",
       " 187.07962072867906,\n",
       " 265.7180128381113,\n",
       " 383.53885494122267,\n",
       " 473.81731157639507,\n",
       " 447.4056368149868,\n",
       " 156.59113702056396,\n",
       " 209.97178850052188,\n",
       " 282.2644941845018,\n",
       " 348.3390008630846,\n",
       " 345.6881205536199,\n",
       " 140.8654507003263,\n",
       " 184.08260449630075,\n",
       " 240.26589290760566,\n",
       " 276.6306177731909,\n",
       " 284.74317840230526,\n",
       " 126.80201958145133,\n",
       " 137.1183450013893,\n",
       " 176.74373464349668,\n",
       " 206.95028838971098,\n",
       " 212.41989356895326,\n",
       " 105.64717259758696,\n",
       " 110.3943491001067,\n",
       " 149.4907791335972,\n",
       " 171.98672157642466,\n",
       " 181.91739820283317]"
      ]
     },
     "execution_count": 211,
     "metadata": {},
     "output_type": "execute_result"
    }
   ],
   "source": [
    "Dosis"
   ]
  },
  {
   "cell_type": "code",
   "execution_count": 164,
   "metadata": {},
   "outputs": [
    {
     "data": {
      "text/html": [
       "<div>\n",
       "<style scoped>\n",
       "    .dataframe tbody tr th:only-of-type {\n",
       "        vertical-align: middle;\n",
       "    }\n",
       "\n",
       "    .dataframe tbody tr th {\n",
       "        vertical-align: top;\n",
       "    }\n",
       "\n",
       "    .dataframe thead th {\n",
       "        text-align: right;\n",
       "    }\n",
       "</style>\n",
       "<table border=\"1\" class=\"dataframe\">\n",
       "  <thead>\n",
       "    <tr style=\"text-align: right;\">\n",
       "      <th></th>\n",
       "      <th>x</th>\n",
       "      <th>y</th>\n",
       "      <th>z</th>\n",
       "      <th>Dose</th>\n",
       "    </tr>\n",
       "  </thead>\n",
       "  <tbody>\n",
       "    <tr>\n",
       "      <th>0</th>\n",
       "      <td>-2.0</td>\n",
       "      <td>-2.0</td>\n",
       "      <td>-2.0</td>\n",
       "      <td>249.290125</td>\n",
       "    </tr>\n",
       "    <tr>\n",
       "      <th>1</th>\n",
       "      <td>-2.0</td>\n",
       "      <td>-2.0</td>\n",
       "      <td>-1.0</td>\n",
       "      <td>431.416082</td>\n",
       "    </tr>\n",
       "    <tr>\n",
       "      <th>2</th>\n",
       "      <td>-2.0</td>\n",
       "      <td>-2.0</td>\n",
       "      <td>0.0</td>\n",
       "      <td>838.682087</td>\n",
       "    </tr>\n",
       "    <tr>\n",
       "      <th>3</th>\n",
       "      <td>-2.0</td>\n",
       "      <td>-2.0</td>\n",
       "      <td>1.0</td>\n",
       "      <td>1570.310999</td>\n",
       "    </tr>\n",
       "    <tr>\n",
       "      <th>4</th>\n",
       "      <td>-2.0</td>\n",
       "      <td>-2.0</td>\n",
       "      <td>2.0</td>\n",
       "      <td>1300.836225</td>\n",
       "    </tr>\n",
       "    <tr>\n",
       "      <th>...</th>\n",
       "      <td>...</td>\n",
       "      <td>...</td>\n",
       "      <td>...</td>\n",
       "      <td>...</td>\n",
       "    </tr>\n",
       "    <tr>\n",
       "      <th>120</th>\n",
       "      <td>2.0</td>\n",
       "      <td>2.0</td>\n",
       "      <td>-2.0</td>\n",
       "      <td>105.647173</td>\n",
       "    </tr>\n",
       "    <tr>\n",
       "      <th>121</th>\n",
       "      <td>2.0</td>\n",
       "      <td>2.0</td>\n",
       "      <td>-1.0</td>\n",
       "      <td>110.394349</td>\n",
       "    </tr>\n",
       "    <tr>\n",
       "      <th>122</th>\n",
       "      <td>2.0</td>\n",
       "      <td>2.0</td>\n",
       "      <td>0.0</td>\n",
       "      <td>149.490779</td>\n",
       "    </tr>\n",
       "    <tr>\n",
       "      <th>123</th>\n",
       "      <td>2.0</td>\n",
       "      <td>2.0</td>\n",
       "      <td>1.0</td>\n",
       "      <td>171.986722</td>\n",
       "    </tr>\n",
       "    <tr>\n",
       "      <th>124</th>\n",
       "      <td>2.0</td>\n",
       "      <td>2.0</td>\n",
       "      <td>2.0</td>\n",
       "      <td>181.917398</td>\n",
       "    </tr>\n",
       "  </tbody>\n",
       "</table>\n",
       "<p>125 rows × 4 columns</p>\n",
       "</div>"
      ],
      "text/plain": [
       "       x    y    z         Dose\n",
       "0   -2.0 -2.0 -2.0   249.290125\n",
       "1   -2.0 -2.0 -1.0   431.416082\n",
       "2   -2.0 -2.0  0.0   838.682087\n",
       "3   -2.0 -2.0  1.0  1570.310999\n",
       "4   -2.0 -2.0  2.0  1300.836225\n",
       "..   ...  ...  ...          ...\n",
       "120  2.0  2.0 -2.0   105.647173\n",
       "121  2.0  2.0 -1.0   110.394349\n",
       "122  2.0  2.0  0.0   149.490779\n",
       "123  2.0  2.0  1.0   171.986722\n",
       "124  2.0  2.0  2.0   181.917398\n",
       "\n",
       "[125 rows x 4 columns]"
      ]
     },
     "execution_count": 164,
     "metadata": {},
     "output_type": "execute_result"
    }
   ],
   "source": [
    "grafica = pd.DataFrame(Calc_Matrix,columns=['x','y','z'])\n",
    "grafica['Dose'] = Dosis\n",
    "grafica"
   ]
  },
  {
   "cell_type": "code",
   "execution_count": 209,
   "metadata": {},
   "outputs": [
    {
     "data": {
      "text/plain": [
       "<matplotlib.collections.PathCollection at 0x7f96e7406250>"
      ]
     },
     "execution_count": 209,
     "metadata": {},
     "output_type": "execute_result"
    },
    {
     "data": {
      "image/png": "[encoded data removed]",
      "text/plain": [
       "<Figure size 432x288 with 1 Axes>"
      ]
     },
     "metadata": {
      "needs_background": "light"
     },
     "output_type": "display_data"
    }
   ],
   "source": [
    "# import matplotlib\n",
    "# # grafica[grafica.z == 0]\n",
    "# # plt.contour(grafica[grafica.z == 0].x,grafica[grafica.z == 0].y,grafica[grafica.z == 0].Dose)\n",
    "fig, ax = plt.subplots()\n",
    "ax.scatter(grafica[grafica.z == 0].x,grafica[grafica.z == 0].y,c=grafica[grafica.z == 0].Dose,edgecolors='none', norm=matplotlib.colors.LogNorm())\n",
    "# # plt.scatter(x, y, c=z,edgecolors='none', norm=matplotlib.colors.LogNorm())\n",
    "# plt.pcolormesh?\n",
    "# np.meshgrid?\n",
    "# xi.tolist()\n",
    "\n",
    "# interpolate.griddata?\n",
    "# zi = interpolate.griddata((x,y),z,(xi,yi),method='linear')\n",
    "# zi"
   ]
  },
  {
   "cell_type": "code",
   "execution_count": 208,
   "metadata": {},
   "outputs": [
    {
     "ename": "TypeError",
     "evalue": "pcolormesh() takes 1 or 3 positional arguments but 2 were given",
     "output_type": "error",
     "traceback": [
      "\u001b[0;31m---------------------------------------------------------------------------\u001b[0m",
      "\u001b[0;31mTypeError\u001b[0m                                 Traceback (most recent call last)",
      "\u001b[0;32m<ipython-input-208-9028fff3cb49>\u001b[0m in \u001b[0;36m<module>\u001b[0;34m\u001b[0m\n\u001b[1;32m     13\u001b[0m \u001b[0;34m\u001b[0m\u001b[0m\n\u001b[1;32m     14\u001b[0m \u001b[0;31m#pcolormesh of interpolated uniform grid with log colormap\u001b[0m\u001b[0;34m\u001b[0m\u001b[0;34m\u001b[0m\u001b[0;34m\u001b[0m\u001b[0m\n\u001b[0;32m---> 15\u001b[0;31m \u001b[0mplt\u001b[0m\u001b[0;34m.\u001b[0m\u001b[0mpcolormesh\u001b[0m\u001b[0;34m(\u001b[0m\u001b[0;34m[\u001b[0m\u001b[0mgrid_x\u001b[0m\u001b[0;34m]\u001b[0m\u001b[0;34m,\u001b[0m\u001b[0mgrid_z2\u001b[0m\u001b[0;34m,\u001b[0m\u001b[0mnorm\u001b[0m\u001b[0;34m=\u001b[0m\u001b[0mmatplotlib\u001b[0m\u001b[0;34m.\u001b[0m\u001b[0mcolors\u001b[0m\u001b[0;34m.\u001b[0m\u001b[0mLogNorm\u001b[0m\u001b[0;34m(\u001b[0m\u001b[0;34m)\u001b[0m\u001b[0;34m)\u001b[0m\u001b[0;34m\u001b[0m\u001b[0;34m\u001b[0m\u001b[0m\n\u001b[0m\u001b[1;32m     16\u001b[0m \u001b[0;34m\u001b[0m\u001b[0m\n\u001b[1;32m     17\u001b[0m \u001b[0mplt\u001b[0m\u001b[0;34m.\u001b[0m\u001b[0mcolormap\u001b[0m\u001b[0;34m(\u001b[0m\u001b[0;34m)\u001b[0m\u001b[0;34m\u001b[0m\u001b[0;34m\u001b[0m\u001b[0m\n",
      "\u001b[0;32m~/anaconda3/lib/python3.8/site-packages/matplotlib/pyplot.py\u001b[0m in \u001b[0;36mpcolormesh\u001b[0;34m(alpha, norm, cmap, vmin, vmax, shading, antialiased, data, *args, **kwargs)\u001b[0m\n\u001b[1;32m   2799\u001b[0m         \u001b[0mvmax\u001b[0m\u001b[0;34m=\u001b[0m\u001b[0;32mNone\u001b[0m\u001b[0;34m,\u001b[0m \u001b[0mshading\u001b[0m\u001b[0;34m=\u001b[0m\u001b[0;32mNone\u001b[0m\u001b[0;34m,\u001b[0m \u001b[0mantialiased\u001b[0m\u001b[0;34m=\u001b[0m\u001b[0;32mFalse\u001b[0m\u001b[0;34m,\u001b[0m \u001b[0mdata\u001b[0m\u001b[0;34m=\u001b[0m\u001b[0;32mNone\u001b[0m\u001b[0;34m,\u001b[0m\u001b[0;34m\u001b[0m\u001b[0;34m\u001b[0m\u001b[0m\n\u001b[1;32m   2800\u001b[0m         **kwargs):\n\u001b[0;32m-> 2801\u001b[0;31m     __ret = gca().pcolormesh(\n\u001b[0m\u001b[1;32m   2802\u001b[0m         \u001b[0;34m*\u001b[0m\u001b[0margs\u001b[0m\u001b[0;34m,\u001b[0m \u001b[0malpha\u001b[0m\u001b[0;34m=\u001b[0m\u001b[0malpha\u001b[0m\u001b[0;34m,\u001b[0m \u001b[0mnorm\u001b[0m\u001b[0;34m=\u001b[0m\u001b[0mnorm\u001b[0m\u001b[0;34m,\u001b[0m \u001b[0mcmap\u001b[0m\u001b[0;34m=\u001b[0m\u001b[0mcmap\u001b[0m\u001b[0;34m,\u001b[0m \u001b[0mvmin\u001b[0m\u001b[0;34m=\u001b[0m\u001b[0mvmin\u001b[0m\u001b[0;34m,\u001b[0m\u001b[0;34m\u001b[0m\u001b[0;34m\u001b[0m\u001b[0m\n\u001b[1;32m   2803\u001b[0m         \u001b[0mvmax\u001b[0m\u001b[0;34m=\u001b[0m\u001b[0mvmax\u001b[0m\u001b[0;34m,\u001b[0m \u001b[0mshading\u001b[0m\u001b[0;34m=\u001b[0m\u001b[0mshading\u001b[0m\u001b[0;34m,\u001b[0m \u001b[0mantialiased\u001b[0m\u001b[0;34m=\u001b[0m\u001b[0mantialiased\u001b[0m\u001b[0;34m,\u001b[0m\u001b[0;34m\u001b[0m\u001b[0;34m\u001b[0m\u001b[0m\n",
      "\u001b[0;32m~/anaconda3/lib/python3.8/site-packages/matplotlib/__init__.py\u001b[0m in \u001b[0;36minner\u001b[0;34m(ax, data, *args, **kwargs)\u001b[0m\n\u001b[1;32m   1445\u001b[0m     \u001b[0;32mdef\u001b[0m \u001b[0minner\u001b[0m\u001b[0;34m(\u001b[0m\u001b[0max\u001b[0m\u001b[0;34m,\u001b[0m \u001b[0;34m*\u001b[0m\u001b[0margs\u001b[0m\u001b[0;34m,\u001b[0m \u001b[0mdata\u001b[0m\u001b[0;34m=\u001b[0m\u001b[0;32mNone\u001b[0m\u001b[0;34m,\u001b[0m \u001b[0;34m**\u001b[0m\u001b[0mkwargs\u001b[0m\u001b[0;34m)\u001b[0m\u001b[0;34m:\u001b[0m\u001b[0;34m\u001b[0m\u001b[0;34m\u001b[0m\u001b[0m\n\u001b[1;32m   1446\u001b[0m         \u001b[0;32mif\u001b[0m \u001b[0mdata\u001b[0m \u001b[0;32mis\u001b[0m \u001b[0;32mNone\u001b[0m\u001b[0;34m:\u001b[0m\u001b[0;34m\u001b[0m\u001b[0;34m\u001b[0m\u001b[0m\n\u001b[0;32m-> 1447\u001b[0;31m             \u001b[0;32mreturn\u001b[0m \u001b[0mfunc\u001b[0m\u001b[0;34m(\u001b[0m\u001b[0max\u001b[0m\u001b[0;34m,\u001b[0m \u001b[0;34m*\u001b[0m\u001b[0mmap\u001b[0m\u001b[0;34m(\u001b[0m\u001b[0msanitize_sequence\u001b[0m\u001b[0;34m,\u001b[0m \u001b[0margs\u001b[0m\u001b[0;34m)\u001b[0m\u001b[0;34m,\u001b[0m \u001b[0;34m**\u001b[0m\u001b[0mkwargs\u001b[0m\u001b[0;34m)\u001b[0m\u001b[0;34m\u001b[0m\u001b[0;34m\u001b[0m\u001b[0m\n\u001b[0m\u001b[1;32m   1448\u001b[0m \u001b[0;34m\u001b[0m\u001b[0m\n\u001b[1;32m   1449\u001b[0m         \u001b[0mbound\u001b[0m \u001b[0;34m=\u001b[0m \u001b[0mnew_sig\u001b[0m\u001b[0;34m.\u001b[0m\u001b[0mbind\u001b[0m\u001b[0;34m(\u001b[0m\u001b[0max\u001b[0m\u001b[0;34m,\u001b[0m \u001b[0;34m*\u001b[0m\u001b[0margs\u001b[0m\u001b[0;34m,\u001b[0m \u001b[0;34m**\u001b[0m\u001b[0mkwargs\u001b[0m\u001b[0;34m)\u001b[0m\u001b[0;34m\u001b[0m\u001b[0;34m\u001b[0m\u001b[0m\n",
      "\u001b[0;32m~/anaconda3/lib/python3.8/site-packages/matplotlib/axes/_axes.py\u001b[0m in \u001b[0;36mpcolormesh\u001b[0;34m(self, alpha, norm, cmap, vmin, vmax, shading, antialiased, *args, **kwargs)\u001b[0m\n\u001b[1;32m   6090\u001b[0m         \u001b[0mkwargs\u001b[0m\u001b[0;34m.\u001b[0m\u001b[0msetdefault\u001b[0m\u001b[0;34m(\u001b[0m\u001b[0;34m'edgecolors'\u001b[0m\u001b[0;34m,\u001b[0m \u001b[0;34m'None'\u001b[0m\u001b[0;34m)\u001b[0m\u001b[0;34m\u001b[0m\u001b[0;34m\u001b[0m\u001b[0m\n\u001b[1;32m   6091\u001b[0m \u001b[0;34m\u001b[0m\u001b[0m\n\u001b[0;32m-> 6092\u001b[0;31m         X, Y, C, shading = self._pcolorargs('pcolormesh', *args,\n\u001b[0m\u001b[1;32m   6093\u001b[0m                                             shading=shading, kwargs=kwargs)\n\u001b[1;32m   6094\u001b[0m         \u001b[0mNy\u001b[0m\u001b[0;34m,\u001b[0m \u001b[0mNx\u001b[0m \u001b[0;34m=\u001b[0m \u001b[0mX\u001b[0m\u001b[0;34m.\u001b[0m\u001b[0mshape\u001b[0m\u001b[0;34m\u001b[0m\u001b[0;34m\u001b[0m\u001b[0m\n",
      "\u001b[0;32m~/anaconda3/lib/python3.8/site-packages/matplotlib/axes/_axes.py\u001b[0m in \u001b[0;36m_pcolorargs\u001b[0;34m(self, funcname, shading, *args, **kwargs)\u001b[0m\n\u001b[1;32m   5585\u001b[0m             \u001b[0mnrows\u001b[0m\u001b[0;34m,\u001b[0m \u001b[0mncols\u001b[0m \u001b[0;34m=\u001b[0m \u001b[0mC\u001b[0m\u001b[0;34m.\u001b[0m\u001b[0mshape\u001b[0m\u001b[0;34m\u001b[0m\u001b[0;34m\u001b[0m\u001b[0m\n\u001b[1;32m   5586\u001b[0m         \u001b[0;32melse\u001b[0m\u001b[0;34m:\u001b[0m\u001b[0;34m\u001b[0m\u001b[0;34m\u001b[0m\u001b[0m\n\u001b[0;32m-> 5587\u001b[0;31m             raise TypeError(f'{funcname}() takes 1 or 3 positional arguments '\n\u001b[0m\u001b[1;32m   5588\u001b[0m                             f'but {len(args)} were given')\n\u001b[1;32m   5589\u001b[0m \u001b[0;34m\u001b[0m\u001b[0m\n",
      "\u001b[0;31mTypeError\u001b[0m: pcolormesh() takes 1 or 3 positional arguments but 2 were given"
     ]
    },
    {
     "data": {
      "image/png": "[encoded data removed]",
      "text/plain": [
       "<Figure size 432x288 with 1 Axes>"
      ]
     },
     "metadata": {
      "needs_background": "light"
     },
     "output_type": "display_data"
    }
   ],
   "source": [
    "x = grafica[grafica.z == 0].x\n",
    "y = grafica[grafica.z == 0].y\n",
    "z = grafica[grafica.z == 0].Dose\n",
    "\n",
    "# define grid.\n",
    "xi = np.linspace(np.min(x),np.max(x),100)\n",
    "yi = np.linspace(np.min(y),np.max(y),100)\n",
    "\n",
    "# grid the data.\n",
    "zi = interpolate.griddata((x,y),z,(xi,yi),method='linear')\n",
    "\n",
    "grid_z2 = griddata((x,y), z, (grid_x, grid_y), method='cubic')\n",
    "\n",
    "#pcolormesh of interpolated uniform grid with log colormap\n",
    "plt.pcolormesh([grid_x, grid_y],grid_z2,norm=matplotlib.colors.LogNorm())\n",
    "\n",
    "plt.colormap()\n",
    "plt.show()"
   ]
  },
  {
   "cell_type": "code",
   "execution_count": 193,
   "metadata": {},
   "outputs": [
    {
     "ename": "ValueError",
     "evalue": "not enough values to unpack (expected 2, got 1)",
     "output_type": "error",
     "traceback": [
      "\u001b[0;31m---------------------------------------------------------------------------\u001b[0m",
      "\u001b[0;31mValueError\u001b[0m                                Traceback (most recent call last)",
      "\u001b[0;32m<ipython-input-193-d1a83393d905>\u001b[0m in \u001b[0;36m<module>\u001b[0;34m\u001b[0m\n\u001b[0;32m----> 1\u001b[0;31m \u001b[0mplt\u001b[0m\u001b[0;34m.\u001b[0m\u001b[0mpcolormesh\u001b[0m\u001b[0;34m(\u001b[0m\u001b[0mzi\u001b[0m\u001b[0;34m)\u001b[0m\u001b[0;34m\u001b[0m\u001b[0;34m\u001b[0m\u001b[0m\n\u001b[0m",
      "\u001b[0;32m~/anaconda3/lib/python3.8/site-packages/matplotlib/pyplot.py\u001b[0m in \u001b[0;36mpcolormesh\u001b[0;34m(alpha, norm, cmap, vmin, vmax, shading, antialiased, data, *args, **kwargs)\u001b[0m\n\u001b[1;32m   2799\u001b[0m         \u001b[0mvmax\u001b[0m\u001b[0;34m=\u001b[0m\u001b[0;32mNone\u001b[0m\u001b[0;34m,\u001b[0m \u001b[0mshading\u001b[0m\u001b[0;34m=\u001b[0m\u001b[0;32mNone\u001b[0m\u001b[0;34m,\u001b[0m \u001b[0mantialiased\u001b[0m\u001b[0;34m=\u001b[0m\u001b[0;32mFalse\u001b[0m\u001b[0;34m,\u001b[0m \u001b[0mdata\u001b[0m\u001b[0;34m=\u001b[0m\u001b[0;32mNone\u001b[0m\u001b[0;34m,\u001b[0m\u001b[0;34m\u001b[0m\u001b[0;34m\u001b[0m\u001b[0m\n\u001b[1;32m   2800\u001b[0m         **kwargs):\n\u001b[0;32m-> 2801\u001b[0;31m     __ret = gca().pcolormesh(\n\u001b[0m\u001b[1;32m   2802\u001b[0m         \u001b[0;34m*\u001b[0m\u001b[0margs\u001b[0m\u001b[0;34m,\u001b[0m \u001b[0malpha\u001b[0m\u001b[0;34m=\u001b[0m\u001b[0malpha\u001b[0m\u001b[0;34m,\u001b[0m \u001b[0mnorm\u001b[0m\u001b[0;34m=\u001b[0m\u001b[0mnorm\u001b[0m\u001b[0;34m,\u001b[0m \u001b[0mcmap\u001b[0m\u001b[0;34m=\u001b[0m\u001b[0mcmap\u001b[0m\u001b[0;34m,\u001b[0m \u001b[0mvmin\u001b[0m\u001b[0;34m=\u001b[0m\u001b[0mvmin\u001b[0m\u001b[0;34m,\u001b[0m\u001b[0;34m\u001b[0m\u001b[0;34m\u001b[0m\u001b[0m\n\u001b[1;32m   2803\u001b[0m         \u001b[0mvmax\u001b[0m\u001b[0;34m=\u001b[0m\u001b[0mvmax\u001b[0m\u001b[0;34m,\u001b[0m \u001b[0mshading\u001b[0m\u001b[0;34m=\u001b[0m\u001b[0mshading\u001b[0m\u001b[0;34m,\u001b[0m \u001b[0mantialiased\u001b[0m\u001b[0;34m=\u001b[0m\u001b[0mantialiased\u001b[0m\u001b[0;34m,\u001b[0m\u001b[0;34m\u001b[0m\u001b[0;34m\u001b[0m\u001b[0m\n",
      "\u001b[0;32m~/anaconda3/lib/python3.8/site-packages/matplotlib/__init__.py\u001b[0m in \u001b[0;36minner\u001b[0;34m(ax, data, *args, **kwargs)\u001b[0m\n\u001b[1;32m   1445\u001b[0m     \u001b[0;32mdef\u001b[0m \u001b[0minner\u001b[0m\u001b[0;34m(\u001b[0m\u001b[0max\u001b[0m\u001b[0;34m,\u001b[0m \u001b[0;34m*\u001b[0m\u001b[0margs\u001b[0m\u001b[0;34m,\u001b[0m \u001b[0mdata\u001b[0m\u001b[0;34m=\u001b[0m\u001b[0;32mNone\u001b[0m\u001b[0;34m,\u001b[0m \u001b[0;34m**\u001b[0m\u001b[0mkwargs\u001b[0m\u001b[0;34m)\u001b[0m\u001b[0;34m:\u001b[0m\u001b[0;34m\u001b[0m\u001b[0;34m\u001b[0m\u001b[0m\n\u001b[1;32m   1446\u001b[0m         \u001b[0;32mif\u001b[0m \u001b[0mdata\u001b[0m \u001b[0;32mis\u001b[0m \u001b[0;32mNone\u001b[0m\u001b[0;34m:\u001b[0m\u001b[0;34m\u001b[0m\u001b[0;34m\u001b[0m\u001b[0m\n\u001b[0;32m-> 1447\u001b[0;31m             \u001b[0;32mreturn\u001b[0m \u001b[0mfunc\u001b[0m\u001b[0;34m(\u001b[0m\u001b[0max\u001b[0m\u001b[0;34m,\u001b[0m \u001b[0;34m*\u001b[0m\u001b[0mmap\u001b[0m\u001b[0;34m(\u001b[0m\u001b[0msanitize_sequence\u001b[0m\u001b[0;34m,\u001b[0m \u001b[0margs\u001b[0m\u001b[0;34m)\u001b[0m\u001b[0;34m,\u001b[0m \u001b[0;34m**\u001b[0m\u001b[0mkwargs\u001b[0m\u001b[0;34m)\u001b[0m\u001b[0;34m\u001b[0m\u001b[0;34m\u001b[0m\u001b[0m\n\u001b[0m\u001b[1;32m   1448\u001b[0m \u001b[0;34m\u001b[0m\u001b[0m\n\u001b[1;32m   1449\u001b[0m         \u001b[0mbound\u001b[0m \u001b[0;34m=\u001b[0m \u001b[0mnew_sig\u001b[0m\u001b[0;34m.\u001b[0m\u001b[0mbind\u001b[0m\u001b[0;34m(\u001b[0m\u001b[0max\u001b[0m\u001b[0;34m,\u001b[0m \u001b[0;34m*\u001b[0m\u001b[0margs\u001b[0m\u001b[0;34m,\u001b[0m \u001b[0;34m**\u001b[0m\u001b[0mkwargs\u001b[0m\u001b[0;34m)\u001b[0m\u001b[0;34m\u001b[0m\u001b[0;34m\u001b[0m\u001b[0m\n",
      "\u001b[0;32m~/anaconda3/lib/python3.8/site-packages/matplotlib/axes/_axes.py\u001b[0m in \u001b[0;36mpcolormesh\u001b[0;34m(self, alpha, norm, cmap, vmin, vmax, shading, antialiased, *args, **kwargs)\u001b[0m\n\u001b[1;32m   6090\u001b[0m         \u001b[0mkwargs\u001b[0m\u001b[0;34m.\u001b[0m\u001b[0msetdefault\u001b[0m\u001b[0;34m(\u001b[0m\u001b[0;34m'edgecolors'\u001b[0m\u001b[0;34m,\u001b[0m \u001b[0;34m'None'\u001b[0m\u001b[0;34m)\u001b[0m\u001b[0;34m\u001b[0m\u001b[0;34m\u001b[0m\u001b[0m\n\u001b[1;32m   6091\u001b[0m \u001b[0;34m\u001b[0m\u001b[0m\n\u001b[0;32m-> 6092\u001b[0;31m         X, Y, C, shading = self._pcolorargs('pcolormesh', *args,\n\u001b[0m\u001b[1;32m   6093\u001b[0m                                             shading=shading, kwargs=kwargs)\n\u001b[1;32m   6094\u001b[0m         \u001b[0mNy\u001b[0m\u001b[0;34m,\u001b[0m \u001b[0mNx\u001b[0m \u001b[0;34m=\u001b[0m \u001b[0mX\u001b[0m\u001b[0;34m.\u001b[0m\u001b[0mshape\u001b[0m\u001b[0;34m\u001b[0m\u001b[0;34m\u001b[0m\u001b[0m\n",
      "\u001b[0;32m~/anaconda3/lib/python3.8/site-packages/matplotlib/axes/_axes.py\u001b[0m in \u001b[0;36m_pcolorargs\u001b[0;34m(self, funcname, shading, *args, **kwargs)\u001b[0m\n\u001b[1;32m   5554\u001b[0m         \u001b[0;32mif\u001b[0m \u001b[0mlen\u001b[0m\u001b[0;34m(\u001b[0m\u001b[0margs\u001b[0m\u001b[0;34m)\u001b[0m \u001b[0;34m==\u001b[0m \u001b[0;36m1\u001b[0m\u001b[0;34m:\u001b[0m\u001b[0;34m\u001b[0m\u001b[0;34m\u001b[0m\u001b[0m\n\u001b[1;32m   5555\u001b[0m             \u001b[0mC\u001b[0m \u001b[0;34m=\u001b[0m \u001b[0mnp\u001b[0m\u001b[0;34m.\u001b[0m\u001b[0masanyarray\u001b[0m\u001b[0;34m(\u001b[0m\u001b[0margs\u001b[0m\u001b[0;34m[\u001b[0m\u001b[0;36m0\u001b[0m\u001b[0;34m]\u001b[0m\u001b[0;34m)\u001b[0m\u001b[0;34m\u001b[0m\u001b[0;34m\u001b[0m\u001b[0m\n\u001b[0;32m-> 5556\u001b[0;31m             \u001b[0mnrows\u001b[0m\u001b[0;34m,\u001b[0m \u001b[0mncols\u001b[0m \u001b[0;34m=\u001b[0m \u001b[0mC\u001b[0m\u001b[0;34m.\u001b[0m\u001b[0mshape\u001b[0m\u001b[0;34m\u001b[0m\u001b[0;34m\u001b[0m\u001b[0m\n\u001b[0m\u001b[1;32m   5557\u001b[0m             \u001b[0;32mif\u001b[0m \u001b[0mshading\u001b[0m \u001b[0;32min\u001b[0m \u001b[0;34m[\u001b[0m\u001b[0;34m'gouraud'\u001b[0m\u001b[0;34m,\u001b[0m \u001b[0;34m'nearest'\u001b[0m\u001b[0;34m]\u001b[0m\u001b[0;34m:\u001b[0m\u001b[0;34m\u001b[0m\u001b[0;34m\u001b[0m\u001b[0m\n\u001b[1;32m   5558\u001b[0m                 \u001b[0mX\u001b[0m\u001b[0;34m,\u001b[0m \u001b[0mY\u001b[0m \u001b[0;34m=\u001b[0m \u001b[0mnp\u001b[0m\u001b[0;34m.\u001b[0m\u001b[0mmeshgrid\u001b[0m\u001b[0;34m(\u001b[0m\u001b[0mnp\u001b[0m\u001b[0;34m.\u001b[0m\u001b[0marange\u001b[0m\u001b[0;34m(\u001b[0m\u001b[0mncols\u001b[0m\u001b[0;34m)\u001b[0m\u001b[0;34m,\u001b[0m \u001b[0mnp\u001b[0m\u001b[0;34m.\u001b[0m\u001b[0marange\u001b[0m\u001b[0;34m(\u001b[0m\u001b[0mnrows\u001b[0m\u001b[0;34m)\u001b[0m\u001b[0;34m)\u001b[0m\u001b[0;34m\u001b[0m\u001b[0;34m\u001b[0m\u001b[0m\n",
      "\u001b[0;31mValueError\u001b[0m: not enough values to unpack (expected 2, got 1)"
     ]
    },
    {
     "data": {
      "image/png": "[encoded data removed]",
      "text/plain": [
       "<Figure size 432x288 with 1 Axes>"
      ]
     },
     "metadata": {
      "needs_background": "light"
     },
     "output_type": "display_data"
    }
   ],
   "source": [
    "plt.pcolormesh(zi)"
   ]
  },
  {
   "cell_type": "code",
   "execution_count": 139,
   "metadata": {},
   "outputs": [
    {
     "name": "stdout",
     "output_type": "stream",
     "text": [
      "[842.19902673 941.45859693 991.09950392 704.00034311 654.35298215\n",
      " 609.58012553]\n",
      "[11.11234827 12.42202315 13.07700734  9.28889342  8.63382407  3.86067413]\n",
      "[58.394770381015064]\n",
      "[1761.71661414 1788.50003439 1574.85289647  671.8899432  1018.96363122\n",
      "  768.66544071  576.45340528]\n",
      "[23.24487199 23.59826434 20.77930905  3.45276776 13.44465902  3.75791993\n",
      "  2.81821665]\n",
      "[58.394770381015064, 91.09600875258211]\n",
      "149.4907791335972\n"
     ]
    }
   ],
   "source": [
    "PlanDate = datetime(2021,1,21,8,30)\n",
    "\n",
    "Catheter1 = pd.DataFrame([[4.4, -35.9, 17.0, 47.5],\n",
    "[5.0, -34.2, 12.6, 47.5],\n",
    "[3.1, -32.9, 8.2, 47.5],\n",
    "[-19.3, -32.2, 8.7, 47.5],\n",
    "[-20.1, -33.5, 13.3, 47.5],\n",
    "[-19.7, -35.6, 17., 22.8]],columns=['x','y','z','time'])\n",
    "Catheter1[['x','y','z']] = Catheter1[['x','y','z']]/10\n",
    "\n",
    "Catheter2 = pd.DataFrame([[-12.8, 14.1, 26.7, 47.5],\n",
    "[-12.8, 5.1, 22.3, 47.5],\n",
    "[-12.2, -4.4, 19.4, 47.5],\n",
    "[-12.0, -14.0, 16.6, 18.5],\n",
    "[-11.8, -23.1, 12.6, 47.5],\n",
    "[-10.4, -32.6, 10.0, 17.6],\n",
    "[-10.7, -42.3, 8.2, 17.6]],columns=['x','y','z','time'])\n",
    "Catheter2[['x','y','z']] = Catheter2[['x','y','z']]/10\n",
    "\n",
    "calc_point = np.array([2,2,0])\n",
    "\n",
    "Dose=[]\n",
    "for pos in [Catheter1,Catheter2]:\n",
    "    DR = Dose_Rate(pos[['x','y','z']],calc_point,fuente,PlanDate)\n",
    "    print(DR)\n",
    "    D = DR*np.array(pos['time']/3600)\n",
    "    print(D)\n",
    "    Dose.append(D.sum())\n",
    "    print(Dose)\n",
    "Dosis = sum(Dose)\n",
    "print(Dosis)"
   ]
  },
  {
   "cell_type": "code",
   "execution_count": 136,
   "metadata": {},
   "outputs": [],
   "source": [
    "DR = Dose_Rate(Catheter1[['x','y','z']],calc_point,fuente,PlanDate)"
   ]
  },
  {
   "cell_type": "code",
   "execution_count": 137,
   "metadata": {},
   "outputs": [
    {
     "data": {
      "text/plain": [
       "array([11.11234827, 12.42202315, 13.07700734,  9.28889342,  8.63382407,\n",
       "        3.86067413])"
      ]
     },
     "execution_count": 137,
     "metadata": {},
     "output_type": "execute_result"
    }
   ],
   "source": [
    "DR * np.array(Catheter1['time'])/3600"
   ]
  },
  {
   "cell_type": "code",
   "execution_count": 121,
   "metadata": {},
   "outputs": [
    {
     "data": {
      "text/plain": [
       "149.4907791335972"
      ]
     },
     "execution_count": 121,
     "metadata": {},
     "output_type": "execute_result"
    }
   ],
   "source": [
    "Dosis "
   ]
  },
  {
   "cell_type": "code",
   "execution_count": 138,
   "metadata": {},
   "outputs": [
    {
     "data": {
      "text/plain": [
       "array([0.73573157, 0.99462794, 1.12218342])"
      ]
     },
     "execution_count": 138,
     "metadata": {},
     "output_type": "execute_result"
    }
   ],
   "source": [
    "Position=pd.DataFrame(([[0,0,0],[1,0,0],[2,0,0]]),columns=['x','y','z'])\n",
    "calc_point=np.array([2,2,2])\n",
    "DR = Dose_Rate(Position,calc_point,fuente,PlanDate)\n",
    "DR/3600"
   ]
  },
  {
   "cell_type": "code",
   "execution_count": 143,
   "metadata": {},
   "outputs": [
    {
     "data": {
      "text/html": [
       "<div>\n",
       "<style scoped>\n",
       "    .dataframe tbody tr th:only-of-type {\n",
       "        vertical-align: middle;\n",
       "    }\n",
       "\n",
       "    .dataframe tbody tr th {\n",
       "        vertical-align: top;\n",
       "    }\n",
       "\n",
       "    .dataframe thead th {\n",
       "        text-align: right;\n",
       "    }\n",
       "</style>\n",
       "<table border=\"1\" class=\"dataframe\">\n",
       "  <thead>\n",
       "    <tr style=\"text-align: right;\">\n",
       "      <th></th>\n",
       "      <th>x</th>\n",
       "      <th>y</th>\n",
       "      <th>z</th>\n",
       "      <th>time</th>\n",
       "    </tr>\n",
       "  </thead>\n",
       "  <tbody>\n",
       "    <tr>\n",
       "      <th>0</th>\n",
       "      <td>-1.28</td>\n",
       "      <td>1.41</td>\n",
       "      <td>2.67</td>\n",
       "      <td>47.5</td>\n",
       "    </tr>\n",
       "    <tr>\n",
       "      <th>1</th>\n",
       "      <td>-1.28</td>\n",
       "      <td>0.51</td>\n",
       "      <td>2.23</td>\n",
       "      <td>47.5</td>\n",
       "    </tr>\n",
       "    <tr>\n",
       "      <th>2</th>\n",
       "      <td>-1.22</td>\n",
       "      <td>-0.44</td>\n",
       "      <td>1.94</td>\n",
       "      <td>47.5</td>\n",
       "    </tr>\n",
       "    <tr>\n",
       "      <th>3</th>\n",
       "      <td>-1.20</td>\n",
       "      <td>-1.40</td>\n",
       "      <td>1.66</td>\n",
       "      <td>18.5</td>\n",
       "    </tr>\n",
       "    <tr>\n",
       "      <th>4</th>\n",
       "      <td>-1.18</td>\n",
       "      <td>-2.31</td>\n",
       "      <td>1.26</td>\n",
       "      <td>47.5</td>\n",
       "    </tr>\n",
       "    <tr>\n",
       "      <th>5</th>\n",
       "      <td>-1.04</td>\n",
       "      <td>-3.26</td>\n",
       "      <td>1.00</td>\n",
       "      <td>17.6</td>\n",
       "    </tr>\n",
       "    <tr>\n",
       "      <th>6</th>\n",
       "      <td>-1.07</td>\n",
       "      <td>-4.23</td>\n",
       "      <td>0.82</td>\n",
       "      <td>17.6</td>\n",
       "    </tr>\n",
       "  </tbody>\n",
       "</table>\n",
       "</div>"
      ],
      "text/plain": [
       "      x     y     z  time\n",
       "0 -1.28  1.41  2.67  47.5\n",
       "1 -1.28  0.51  2.23  47.5\n",
       "2 -1.22 -0.44  1.94  47.5\n",
       "3 -1.20 -1.40  1.66  18.5\n",
       "4 -1.18 -2.31  1.26  47.5\n",
       "5 -1.04 -3.26  1.00  17.6\n",
       "6 -1.07 -4.23  0.82  17.6"
      ]
     },
     "execution_count": 143,
     "metadata": {},
     "output_type": "execute_result"
    }
   ],
   "source": [
    "Catheter2"
   ]
  },
  {
   "cell_type": "code",
   "execution_count": 144,
   "metadata": {},
   "outputs": [
    {
     "data": {
      "text/plain": [
       "504.0"
      ]
     },
     "execution_count": 144,
     "metadata": {},
     "output_type": "execute_result"
    }
   ],
   "source": [
    "Catheter1.time.sum() + Catheter2.time.sum()"
   ]
  },
  {
   "cell_type": "code",
   "execution_count": null,
   "metadata": {},
   "outputs": [],
   "source": []
  },
  {
   "cell_type": "code",
   "execution_count": null,
   "metadata": {},
   "outputs": [],
   "source": []
  },
  {
   "cell_type": "code",
   "execution_count": null,
   "metadata": {},
   "outputs": [],
   "source": []
  },
  {
   "cell_type": "code",
   "execution_count": 115,
   "metadata": {
    "executionInfo": {
     "elapsed": 8,
     "status": "ok",
     "timestamp": 1633710585723,
     "user": {
      "displayName": "Jaime Hipolito Cabrera Salcedo",
      "photoUrl": "https://lh3.googleusercontent.com/a-/AOh14GhhVKq-ZyUcUOiGIT07jqy0coDy1alzcwiAWLiznQo3t0oIN6Hgj7ZD7ob1Ib0B5nZu6Fu44qIsobHe5qpcgjQ3I4uTpqfgLWDz7Mvz1L_zdSHdiY0w53kb8tRebKtALT1S9Hj5NRGvzjuVzEh-5vn4EAkT4bdaHcLEPJpE2veN0594VSE__Npxdqkp37rRoKO9AKAh857jmHkMqcRQtBYqG1px2dZ6T9MYdxQ8Rh89adq8q7a0x_oXi4V8dClcyOIBAeLaZEszlDF-R8QSe5zKJBfTGZ1nNzRXRkFZaotZhisdqbbS3pAmkAWVOfQ85Vh_cwsHKFp8Y4muPrqyUkSRbsepsxJeSx6o73Y4FRFqC3oeA3EZB9GbURGxpNNViDgkpioXXu4SVwoX5UyP8LzVvhe3xO7TeYIjj6ACLIZPuwp6npGGBnRxu1OXGa_j3QAUo-oculPGdyi0G_bks3FKW5PkLVtMlKhxiN2Fuqj7YwLkK-OIegmyfj70NhSsKv11RAtgZl6WiIMIElNDqf1YX6JoNkDfIfM5P0F7YeR5XE-SsVPGFalENrj-kOjheV6lSlEOzaFbAQ-hn1n1zPgRQyhrdXJ42F7YXjfNqg2_2roottoZX41zEHDg7MSetUmogd7_05wgZpaKzAWz2f8iNdHefoAD3gZPAG1r1rutcqghwp1q5KsPaJC0TiWWj7oc5ji9Skx4LM0qOj9_6IdOR_rm8x9sETB7nbGVJ42LEzQw_Mb2JjT7dMnmfYjh_zZsrA=s64",
      "userId": "06362799441420365332"
     },
     "user_tz": 300
    },
    "id": "ca0d1358"
   },
   "outputs": [],
   "source": [
    "r = calc_point-Position\n",
    "a = pd.DataFrame([Position.loc[i,['x','y','z']] - Position.loc[i+1,['x','y','z']] if i!=len(Position)-1 else Position.loc[i-1,['x','y','z']] - Position.loc[i,['x','y','z']] for i in range(len(Position))]) \n",
    "r_dot_a=[r.iloc[i].dot(a.iloc[i]) for i in range(len(r))]\n",
    "r['modulo_r'] = r.apply(lambda x:np.linalg.norm(x), axis='columns')\n",
    "a['modulo_a'] = a.apply(lambda x:np.linalg.norm(x), axis='columns')\n",
    "\n",
    "theta = [np.degrees(np.arccos(r_dot_a[i]/(r.modulo_r[i]*a.modulo_a[i]))) for i in range(len(r_dot_a))]\n",
    "\n",
    "a_norm = a[['x','y','z']].apply(lambda x:x/np.linalg.norm(x), axis='columns')\n",
    "\n",
    "r1 = calc_point - (Position - a_norm*fuente.length/20)\n",
    "r1_dot_a=[r1.iloc[i].dot(a[['x','y','z']].iloc[i]) for i in range(len(r1))]\n",
    "r1['modulo_r1'] = r1.apply(lambda x:np.linalg.norm(x), axis='columns')\n",
    "theta_1 = np.array([np.degrees(np.arccos(r1_dot_a[i]/(r1.modulo_r1[i]*a.modulo_a[i]))) for i in range(len(r1_dot_a))])\n",
    "\n",
    "r2 = calc_point - (Position + a_norm*fuente.length/20)\n",
    "r2_dot_a=[r2.iloc[i].dot(a[['x','y','z']].iloc[i]) for i in range(len(r2))]\n",
    "r2['modulo_r2'] = r2.apply(lambda x:np.linalg.norm(x), axis='columns')\n",
    "theta_2 = np.array([np.degrees(np.arccos(r2_dot_a[i]/(r2.modulo_r2[i]*a.modulo_a[i]))) for i in range(len(r2_dot_a))])\n",
    "\n",
    "beta = np.radians(theta_2 - theta_1)\n",
    "\n",
    "GL0 = 2*np.arctan(fuente.length/20)/(fuente.length/10)\n",
    "GL_r_th = np.array([1/(r.modulo_r[i]**2-(fuente.length/20)**2) if (theta[i]==0 or theta[i]==180) else beta[i]/((fuente.length/10)*r.modulo_r[i]*np.sin(np.radians(theta[i]))) for i in range(len(beta))])\n",
    "\n",
    "g_r = np.interp(r.modulo_r*10,RadialDoseFuntion['r(mm)'],RadialDoseFuntion['g(r)'])\n",
    "\n",
    "x,y = np.meshgrid(np.linspace(0,180,37),np.linspace(0,50,11))\n",
    "# Anisotropy2D.drop('r(mm)\\\\theta(°)',axis=1)\n",
    "f = interpolate.interp2d(x,y,Anisotropy2D,kind='cubic')\n",
    "\n",
    "F_r_th = np.array([(f(theta[i],r.modulo_r[i]*10))[0] for i in range(len(r))])"
   ]
  },
  {
   "cell_type": "code",
   "execution_count": 10,
   "metadata": {
    "colab": {
     "base_uri": "https://localhost:8080/"
    },
    "executionInfo": {
     "elapsed": 269,
     "status": "ok",
     "timestamp": 1633710585985,
     "user": {
      "displayName": "Jaime Hipolito Cabrera Salcedo",
      "photoUrl": "https://lh3.googleusercontent.com/a-/AOh14GhhVKq-ZyUcUOiGIT07jqy0coDy1alzcwiAWLiznQo3t0oIN6Hgj7ZD7ob1Ib0B5nZu6Fu44qIsobHe5qpcgjQ3I4uTpqfgLWDz7Mvz1L_zdSHdiY0w53kb8tRebKtALT1S9Hj5NRGvzjuVzEh-5vn4EAkT4bdaHcLEPJpE2veN0594VSE__Npxdqkp37rRoKO9AKAh857jmHkMqcRQtBYqG1px2dZ6T9MYdxQ8Rh89adq8q7a0x_oXi4V8dClcyOIBAeLaZEszlDF-R8QSe5zKJBfTGZ1nNzRXRkFZaotZhisdqbbS3pAmkAWVOfQ85Vh_cwsHKFp8Y4muPrqyUkSRbsepsxJeSx6o73Y4FRFqC3oeA3EZB9GbURGxpNNViDgkpioXXu4SVwoX5UyP8LzVvhe3xO7TeYIjj6ACLIZPuwp6npGGBnRxu1OXGa_j3QAUo-oculPGdyi0G_bks3FKW5PkLVtMlKhxiN2Fuqj7YwLkK-OIegmyfj70NhSsKv11RAtgZl6WiIMIElNDqf1YX6JoNkDfIfM5P0F7YeR5XE-SsVPGFalENrj-kOjheV6lSlEOzaFbAQ-hn1n1zPgRQyhrdXJ42F7YXjfNqg2_2roottoZX41zEHDg7MSetUmogd7_05wgZpaKzAWz2f8iNdHefoAD3gZPAG1r1rutcqghwp1q5KsPaJC0TiWWj7oc5ji9Skx4LM0qOj9_6IdOR_rm8x9sETB7nbGVJ42LEzQw_Mb2JjT7dMnmfYjh_zZsrA=s64",
      "userId": "06362799441420365332"
     },
     "user_tz": 300
    },
    "id": "dd5c849f",
    "outputId": "2beb8a19-3961-4245-c892-98d418de2b1b"
   },
   "outputs": [
    {
     "data": {
      "text/plain": [
       "array([0.08487812, 0.11306162, 0.12710781])"
      ]
     },
     "execution_count": 10,
     "metadata": {},
     "output_type": "execute_result"
    }
   ],
   "source": [
    "beta = np.radians(theta_2 - theta_1)\n",
    "beta"
   ]
  },
  {
   "cell_type": "code",
   "execution_count": 11,
   "metadata": {
    "colab": {
     "base_uri": "https://localhost:8080/"
    },
    "executionInfo": {
     "elapsed": 22,
     "status": "ok",
     "timestamp": 1633710585986,
     "user": {
      "displayName": "Jaime Hipolito Cabrera Salcedo",
      "photoUrl": "https://lh3.googleusercontent.com/a-/AOh14GhhVKq-ZyUcUOiGIT07jqy0coDy1alzcwiAWLiznQo3t0oIN6Hgj7ZD7ob1Ib0B5nZu6Fu44qIsobHe5qpcgjQ3I4uTpqfgLWDz7Mvz1L_zdSHdiY0w53kb8tRebKtALT1S9Hj5NRGvzjuVzEh-5vn4EAkT4bdaHcLEPJpE2veN0594VSE__Npxdqkp37rRoKO9AKAh857jmHkMqcRQtBYqG1px2dZ6T9MYdxQ8Rh89adq8q7a0x_oXi4V8dClcyOIBAeLaZEszlDF-R8QSe5zKJBfTGZ1nNzRXRkFZaotZhisdqbbS3pAmkAWVOfQ85Vh_cwsHKFp8Y4muPrqyUkSRbsepsxJeSx6o73Y4FRFqC3oeA3EZB9GbURGxpNNViDgkpioXXu4SVwoX5UyP8LzVvhe3xO7TeYIjj6ACLIZPuwp6npGGBnRxu1OXGa_j3QAUo-oculPGdyi0G_bks3FKW5PkLVtMlKhxiN2Fuqj7YwLkK-OIegmyfj70NhSsKv11RAtgZl6WiIMIElNDqf1YX6JoNkDfIfM5P0F7YeR5XE-SsVPGFalENrj-kOjheV6lSlEOzaFbAQ-hn1n1zPgRQyhrdXJ42F7YXjfNqg2_2roottoZX41zEHDg7MSetUmogd7_05wgZpaKzAWz2f8iNdHefoAD3gZPAG1r1rutcqghwp1q5KsPaJC0TiWWj7oc5ji9Skx4LM0qOj9_6IdOR_rm8x9sETB7nbGVJ42LEzQw_Mb2JjT7dMnmfYjh_zZsrA=s64",
      "userId": "06362799441420365332"
     },
     "user_tz": 300
    },
    "id": "a652001a",
    "outputId": "999fd70d-eae1-4694-e554-6784641b67ab"
   },
   "outputs": [
    {
     "data": {
      "text/plain": [
       "0.9894052123955419"
      ]
     },
     "execution_count": 11,
     "metadata": {},
     "output_type": "execute_result"
    }
   ],
   "source": [
    "GL0 = 2*np.arctan(fuente.length/20)/(fuente.length/10)\n",
    "GL0"
   ]
  },
  {
   "cell_type": "code",
   "execution_count": 12,
   "metadata": {
    "executionInfo": {
     "elapsed": 20,
     "status": "ok",
     "timestamp": 1633710585986,
     "user": {
      "displayName": "Jaime Hipolito Cabrera Salcedo",
      "photoUrl": "https://lh3.googleusercontent.com/a-/AOh14GhhVKq-ZyUcUOiGIT07jqy0coDy1alzcwiAWLiznQo3t0oIN6Hgj7ZD7ob1Ib0B5nZu6Fu44qIsobHe5qpcgjQ3I4uTpqfgLWDz7Mvz1L_zdSHdiY0w53kb8tRebKtALT1S9Hj5NRGvzjuVzEh-5vn4EAkT4bdaHcLEPJpE2veN0594VSE__Npxdqkp37rRoKO9AKAh857jmHkMqcRQtBYqG1px2dZ6T9MYdxQ8Rh89adq8q7a0x_oXi4V8dClcyOIBAeLaZEszlDF-R8QSe5zKJBfTGZ1nNzRXRkFZaotZhisdqbbS3pAmkAWVOfQ85Vh_cwsHKFp8Y4muPrqyUkSRbsepsxJeSx6o73Y4FRFqC3oeA3EZB9GbURGxpNNViDgkpioXXu4SVwoX5UyP8LzVvhe3xO7TeYIjj6ACLIZPuwp6npGGBnRxu1OXGa_j3QAUo-oculPGdyi0G_bks3FKW5PkLVtMlKhxiN2Fuqj7YwLkK-OIegmyfj70NhSsKv11RAtgZl6WiIMIElNDqf1YX6JoNkDfIfM5P0F7YeR5XE-SsVPGFalENrj-kOjheV6lSlEOzaFbAQ-hn1n1zPgRQyhrdXJ42F7YXjfNqg2_2roottoZX41zEHDg7MSetUmogd7_05wgZpaKzAWz2f8iNdHefoAD3gZPAG1r1rutcqghwp1q5KsPaJC0TiWWj7oc5ji9Skx4LM0qOj9_6IdOR_rm8x9sETB7nbGVJ42LEzQw_Mb2JjT7dMnmfYjh_zZsrA=s64",
      "userId": "06362799441420365332"
     },
     "user_tz": 300
    },
    "id": "c3c70f7e"
   },
   "outputs": [],
   "source": [
    "GL_r_th = np.array([1/(r.modulo_r[i]**2-(fuente.length/20)**2) if (theta[i]==0 or theta[i]==180) else beta[i]/((fuente.length/10)*r.modulo_r[i]*np.sin(np.radians(theta[i]))) for i in range(len(beta))])"
   ]
  },
  {
   "cell_type": "code",
   "execution_count": 13,
   "metadata": {
    "colab": {
     "base_uri": "https://localhost:8080/"
    },
    "executionInfo": {
     "elapsed": 20,
     "status": "ok",
     "timestamp": 1633710585987,
     "user": {
      "displayName": "Jaime Hipolito Cabrera Salcedo",
      "photoUrl": "https://lh3.googleusercontent.com/a-/AOh14GhhVKq-ZyUcUOiGIT07jqy0coDy1alzcwiAWLiznQo3t0oIN6Hgj7ZD7ob1Ib0B5nZu6Fu44qIsobHe5qpcgjQ3I4uTpqfgLWDz7Mvz1L_zdSHdiY0w53kb8tRebKtALT1S9Hj5NRGvzjuVzEh-5vn4EAkT4bdaHcLEPJpE2veN0594VSE__Npxdqkp37rRoKO9AKAh857jmHkMqcRQtBYqG1px2dZ6T9MYdxQ8Rh89adq8q7a0x_oXi4V8dClcyOIBAeLaZEszlDF-R8QSe5zKJBfTGZ1nNzRXRkFZaotZhisdqbbS3pAmkAWVOfQ85Vh_cwsHKFp8Y4muPrqyUkSRbsepsxJeSx6o73Y4FRFqC3oeA3EZB9GbURGxpNNViDgkpioXXu4SVwoX5UyP8LzVvhe3xO7TeYIjj6ACLIZPuwp6npGGBnRxu1OXGa_j3QAUo-oculPGdyi0G_bks3FKW5PkLVtMlKhxiN2Fuqj7YwLkK-OIegmyfj70NhSsKv11RAtgZl6WiIMIElNDqf1YX6JoNkDfIfM5P0F7YeR5XE-SsVPGFalENrj-kOjheV6lSlEOzaFbAQ-hn1n1zPgRQyhrdXJ42F7YXjfNqg2_2roottoZX41zEHDg7MSetUmogd7_05wgZpaKzAWz2f8iNdHefoAD3gZPAG1r1rutcqghwp1q5KsPaJC0TiWWj7oc5ji9Skx4LM0qOj9_6IdOR_rm8x9sETB7nbGVJ42LEzQw_Mb2JjT7dMnmfYjh_zZsrA=s64",
      "userId": "06362799441420365332"
     },
     "user_tz": 300
    },
    "id": "5872ab34",
    "outputId": "f8e21758-9680-445d-ee83-a301a8a169a9"
   },
   "outputs": [
    {
     "data": {
      "text/plain": [
       "array([0.08335818, 0.111037  , 0.12483166])"
      ]
     },
     "execution_count": 13,
     "metadata": {},
     "output_type": "execute_result"
    }
   ],
   "source": [
    "GL_r_th"
   ]
  },
  {
   "cell_type": "code",
   "execution_count": 98,
   "metadata": {},
   "outputs": [
    {
     "data": {
      "text/plain": [
       "array([0.0842508 , 0.11222601, 0.12616839])"
      ]
     },
     "execution_count": 98,
     "metadata": {},
     "output_type": "execute_result"
    }
   ],
   "source": [
    "GL_r_th/GL0"
   ]
  },
  {
   "cell_type": "code",
   "execution_count": 14,
   "metadata": {
    "colab": {
     "base_uri": "https://localhost:8080/"
    },
    "executionInfo": {
     "elapsed": 164,
     "status": "ok",
     "timestamp": 1633710899654,
     "user": {
      "displayName": "Jaime Hipolito Cabrera Salcedo",
      "photoUrl": "https://lh3.googleusercontent.com/a-/AOh14GhhVKq-ZyUcUOiGIT07jqy0coDy1alzcwiAWLiznQo3t0oIN6Hgj7ZD7ob1Ib0B5nZu6Fu44qIsobHe5qpcgjQ3I4uTpqfgLWDz7Mvz1L_zdSHdiY0w53kb8tRebKtALT1S9Hj5NRGvzjuVzEh-5vn4EAkT4bdaHcLEPJpE2veN0594VSE__Npxdqkp37rRoKO9AKAh857jmHkMqcRQtBYqG1px2dZ6T9MYdxQ8Rh89adq8q7a0x_oXi4V8dClcyOIBAeLaZEszlDF-R8QSe5zKJBfTGZ1nNzRXRkFZaotZhisdqbbS3pAmkAWVOfQ85Vh_cwsHKFp8Y4muPrqyUkSRbsepsxJeSx6o73Y4FRFqC3oeA3EZB9GbURGxpNNViDgkpioXXu4SVwoX5UyP8LzVvhe3xO7TeYIjj6ACLIZPuwp6npGGBnRxu1OXGa_j3QAUo-oculPGdyi0G_bks3FKW5PkLVtMlKhxiN2Fuqj7YwLkK-OIegmyfj70NhSsKv11RAtgZl6WiIMIElNDqf1YX6JoNkDfIfM5P0F7YeR5XE-SsVPGFalENrj-kOjheV6lSlEOzaFbAQ-hn1n1zPgRQyhrdXJ42F7YXjfNqg2_2roottoZX41zEHDg7MSetUmogd7_05wgZpaKzAWz2f8iNdHefoAD3gZPAG1r1rutcqghwp1q5KsPaJC0TiWWj7oc5ji9Skx4LM0qOj9_6IdOR_rm8x9sETB7nbGVJ42LEzQw_Mb2JjT7dMnmfYjh_zZsrA=s64",
      "userId": "06362799441420365332"
     },
     "user_tz": 300
    },
    "id": "7kyAEHHv-YI4",
    "outputId": "354a850c-a8ad-4efd-c915-310ace591f50"
   },
   "outputs": [
    {
     "data": {
      "text/plain": [
       "array([1.00679334, 1.008     , 1.008     ])"
      ]
     },
     "execution_count": 14,
     "metadata": {},
     "output_type": "execute_result"
    }
   ],
   "source": [
    "g_r = np.interp(r.modulo_r*10,RadialDoseFuntion['r(mm)'],RadialDoseFuntion['g(r)'])\n",
    "g_r"
   ]
  },
  {
   "cell_type": "code",
   "execution_count": 93,
   "metadata": {
    "colab": {
     "base_uri": "https://localhost:8080/"
    },
    "executionInfo": {
     "elapsed": 19,
     "status": "ok",
     "timestamp": 1633710585989,
     "user": {
      "displayName": "Jaime Hipolito Cabrera Salcedo",
      "photoUrl": "https://lh3.googleusercontent.com/a-/AOh14GhhVKq-ZyUcUOiGIT07jqy0coDy1alzcwiAWLiznQo3t0oIN6Hgj7ZD7ob1Ib0B5nZu6Fu44qIsobHe5qpcgjQ3I4uTpqfgLWDz7Mvz1L_zdSHdiY0w53kb8tRebKtALT1S9Hj5NRGvzjuVzEh-5vn4EAkT4bdaHcLEPJpE2veN0594VSE__Npxdqkp37rRoKO9AKAh857jmHkMqcRQtBYqG1px2dZ6T9MYdxQ8Rh89adq8q7a0x_oXi4V8dClcyOIBAeLaZEszlDF-R8QSe5zKJBfTGZ1nNzRXRkFZaotZhisdqbbS3pAmkAWVOfQ85Vh_cwsHKFp8Y4muPrqyUkSRbsepsxJeSx6o73Y4FRFqC3oeA3EZB9GbURGxpNNViDgkpioXXu4SVwoX5UyP8LzVvhe3xO7TeYIjj6ACLIZPuwp6npGGBnRxu1OXGa_j3QAUo-oculPGdyi0G_bks3FKW5PkLVtMlKhxiN2Fuqj7YwLkK-OIegmyfj70NhSsKv11RAtgZl6WiIMIElNDqf1YX6JoNkDfIfM5P0F7YeR5XE-SsVPGFalENrj-kOjheV6lSlEOzaFbAQ-hn1n1zPgRQyhrdXJ42F7YXjfNqg2_2roottoZX41zEHDg7MSetUmogd7_05wgZpaKzAWz2f8iNdHefoAD3gZPAG1r1rutcqghwp1q5KsPaJC0TiWWj7oc5ji9Skx4LM0qOj9_6IdOR_rm8x9sETB7nbGVJ42LEzQw_Mb2JjT7dMnmfYjh_zZsrA=s64",
      "userId": "06362799441420365332"
     },
     "user_tz": 300
    },
    "id": "_Sa7cJItuoxg",
    "outputId": "16c62a23-30c3-4ef2-a98d-2825576185c2"
   },
   "outputs": [],
   "source": [
    "x,y = np.meshgrid(np.linspace(0,180,37),np.linspace(0,50,11))\n",
    "f = interpolate.interp2d(x,y,np.array(Anisotropy2D),kind='cubic')"
   ]
  },
  {
   "cell_type": "code",
   "execution_count": 110,
   "metadata": {
    "colab": {
     "base_uri": "https://localhost:8080/"
    },
    "executionInfo": {
     "elapsed": 164,
     "status": "ok",
     "timestamp": 1633710907452,
     "user": {
      "displayName": "Jaime Hipolito Cabrera Salcedo",
      "photoUrl": "https://lh3.googleusercontent.com/a-/AOh14GhhVKq-ZyUcUOiGIT07jqy0coDy1alzcwiAWLiznQo3t0oIN6Hgj7ZD7ob1Ib0B5nZu6Fu44qIsobHe5qpcgjQ3I4uTpqfgLWDz7Mvz1L_zdSHdiY0w53kb8tRebKtALT1S9Hj5NRGvzjuVzEh-5vn4EAkT4bdaHcLEPJpE2veN0594VSE__Npxdqkp37rRoKO9AKAh857jmHkMqcRQtBYqG1px2dZ6T9MYdxQ8Rh89adq8q7a0x_oXi4V8dClcyOIBAeLaZEszlDF-R8QSe5zKJBfTGZ1nNzRXRkFZaotZhisdqbbS3pAmkAWVOfQ85Vh_cwsHKFp8Y4muPrqyUkSRbsepsxJeSx6o73Y4FRFqC3oeA3EZB9GbURGxpNNViDgkpioXXu4SVwoX5UyP8LzVvhe3xO7TeYIjj6ACLIZPuwp6npGGBnRxu1OXGa_j3QAUo-oculPGdyi0G_bks3FKW5PkLVtMlKhxiN2Fuqj7YwLkK-OIegmyfj70NhSsKv11RAtgZl6WiIMIElNDqf1YX6JoNkDfIfM5P0F7YeR5XE-SsVPGFalENrj-kOjheV6lSlEOzaFbAQ-hn1n1zPgRQyhrdXJ42F7YXjfNqg2_2roottoZX41zEHDg7MSetUmogd7_05wgZpaKzAWz2f8iNdHefoAD3gZPAG1r1rutcqghwp1q5KsPaJC0TiWWj7oc5ji9Skx4LM0qOj9_6IdOR_rm8x9sETB7nbGVJ42LEzQw_Mb2JjT7dMnmfYjh_zZsrA=s64",
      "userId": "06362799441420365332"
     },
     "user_tz": 300
    },
    "id": "axMklrIauskp",
    "outputId": "47d8391a-982e-4d67-c1ad-950e8903e6bd"
   },
   "outputs": [
    {
     "data": {
      "text/plain": [
       "array([0.98296987, 0.99641856, 0.9999723 ])"
      ]
     },
     "execution_count": 110,
     "metadata": {},
     "output_type": "execute_result"
    }
   ],
   "source": [
    "F_r_th = np.array([(f(theta[i],r.modulo_r[i]*10))[0] for i in range(len(r))])\n",
    "F_r_th.T"
   ]
  },
  {
   "cell_type": "code",
   "execution_count": 116,
   "metadata": {
    "colab": {
     "base_uri": "https://localhost:8080/"
    },
    "executionInfo": {
     "elapsed": 162,
     "status": "ok",
     "timestamp": 1633710911365,
     "user": {
      "displayName": "Jaime Hipolito Cabrera Salcedo",
      "photoUrl": "https://lh3.googleusercontent.com/a-/AOh14GhhVKq-ZyUcUOiGIT07jqy0coDy1alzcwiAWLiznQo3t0oIN6Hgj7ZD7ob1Ib0B5nZu6Fu44qIsobHe5qpcgjQ3I4uTpqfgLWDz7Mvz1L_zdSHdiY0w53kb8tRebKtALT1S9Hj5NRGvzjuVzEh-5vn4EAkT4bdaHcLEPJpE2veN0594VSE__Npxdqkp37rRoKO9AKAh857jmHkMqcRQtBYqG1px2dZ6T9MYdxQ8Rh89adq8q7a0x_oXi4V8dClcyOIBAeLaZEszlDF-R8QSe5zKJBfTGZ1nNzRXRkFZaotZhisdqbbS3pAmkAWVOfQ85Vh_cwsHKFp8Y4muPrqyUkSRbsepsxJeSx6o73Y4FRFqC3oeA3EZB9GbURGxpNNViDgkpioXXu4SVwoX5UyP8LzVvhe3xO7TeYIjj6ACLIZPuwp6npGGBnRxu1OXGa_j3QAUo-oculPGdyi0G_bks3FKW5PkLVtMlKhxiN2Fuqj7YwLkK-OIegmyfj70NhSsKv11RAtgZl6WiIMIElNDqf1YX6JoNkDfIfM5P0F7YeR5XE-SsVPGFalENrj-kOjheV6lSlEOzaFbAQ-hn1n1zPgRQyhrdXJ42F7YXjfNqg2_2roottoZX41zEHDg7MSetUmogd7_05wgZpaKzAWz2f8iNdHefoAD3gZPAG1r1rutcqghwp1q5KsPaJC0TiWWj7oc5ji9Skx4LM0qOj9_6IdOR_rm8x9sETB7nbGVJ42LEzQw_Mb2JjT7dMnmfYjh_zZsrA=s64",
      "userId": "06362799441420365332"
     },
     "user_tz": 300
    },
    "id": "951cf7wUvuWi",
    "outputId": "f7b25251-c6fa-4642-d8f8-c85065179bc5"
   },
   "outputs": [
    {
     "data": {
      "text/plain": [
       "array([2648.62536892, 3580.64939309, 4039.84766966])"
      ]
     },
     "execution_count": 116,
     "metadata": {},
     "output_type": "execute_result"
    }
   ],
   "source": [
    "Dose_Rate = Sk*DoseRateConstant*(GL_r_th/GL0)*g_r*F_r_th.T\n",
    "Dose_Rate"
   ]
  },
  {
   "cell_type": "code",
   "execution_count": 117,
   "metadata": {},
   "outputs": [
    {
     "data": {
      "text/plain": [
       "array([0.73572927, 0.99462483, 1.12217991])"
      ]
     },
     "execution_count": 117,
     "metadata": {},
     "output_type": "execute_result"
    }
   ],
   "source": [
    "Dose_Rate/3600"
   ]
  },
  {
   "cell_type": "code",
   "execution_count": null,
   "metadata": {
    "colab": {
     "base_uri": "https://localhost:8080/",
     "height": 129
    },
    "executionInfo": {
     "elapsed": 20,
     "status": "error",
     "timestamp": 1633710585995,
     "user": {
      "displayName": "Jaime Hipolito Cabrera Salcedo",
      "photoUrl": "https://lh3.googleusercontent.com/a-/AOh14GhhVKq-ZyUcUOiGIT07jqy0coDy1alzcwiAWLiznQo3t0oIN6Hgj7ZD7ob1Ib0B5nZu6Fu44qIsobHe5qpcgjQ3I4uTpqfgLWDz7Mvz1L_zdSHdiY0w53kb8tRebKtALT1S9Hj5NRGvzjuVzEh-5vn4EAkT4bdaHcLEPJpE2veN0594VSE__Npxdqkp37rRoKO9AKAh857jmHkMqcRQtBYqG1px2dZ6T9MYdxQ8Rh89adq8q7a0x_oXi4V8dClcyOIBAeLaZEszlDF-R8QSe5zKJBfTGZ1nNzRXRkFZaotZhisdqbbS3pAmkAWVOfQ85Vh_cwsHKFp8Y4muPrqyUkSRbsepsxJeSx6o73Y4FRFqC3oeA3EZB9GbURGxpNNViDgkpioXXu4SVwoX5UyP8LzVvhe3xO7TeYIjj6ACLIZPuwp6npGGBnRxu1OXGa_j3QAUo-oculPGdyi0G_bks3FKW5PkLVtMlKhxiN2Fuqj7YwLkK-OIegmyfj70NhSsKv11RAtgZl6WiIMIElNDqf1YX6JoNkDfIfM5P0F7YeR5XE-SsVPGFalENrj-kOjheV6lSlEOzaFbAQ-hn1n1zPgRQyhrdXJ42F7YXjfNqg2_2roottoZX41zEHDg7MSetUmogd7_05wgZpaKzAWz2f8iNdHefoAD3gZPAG1r1rutcqghwp1q5KsPaJC0TiWWj7oc5ji9Skx4LM0qOj9_6IdOR_rm8x9sETB7nbGVJ42LEzQw_Mb2JjT7dMnmfYjh_zZsrA=s64",
      "userId": "06362799441420365332"
     },
     "user_tz": 300
    },
    "id": "00efa31d",
    "outputId": "8d9add26-ab36-4a90-c625-e3d37e55a648"
   },
   "outputs": [],
   "source": [
    "Dose(r) = Sk*DoseRateConstant*(GL_r_th/GL0)*RadialDoseFuntion(r)*Anisotropy2D(r)"
   ]
  },
  {
   "cell_type": "code",
   "execution_count": 70,
   "metadata": {
    "executionInfo": {
     "elapsed": 156,
     "status": "ok",
     "timestamp": 1633710683707,
     "user": {
      "displayName": "Jaime Hipolito Cabrera Salcedo",
      "photoUrl": "https://lh3.googleusercontent.com/a-/AOh14GhhVKq-ZyUcUOiGIT07jqy0coDy1alzcwiAWLiznQo3t0oIN6Hgj7ZD7ob1Ib0B5nZu6Fu44qIsobHe5qpcgjQ3I4uTpqfgLWDz7Mvz1L_zdSHdiY0w53kb8tRebKtALT1S9Hj5NRGvzjuVzEh-5vn4EAkT4bdaHcLEPJpE2veN0594VSE__Npxdqkp37rRoKO9AKAh857jmHkMqcRQtBYqG1px2dZ6T9MYdxQ8Rh89adq8q7a0x_oXi4V8dClcyOIBAeLaZEszlDF-R8QSe5zKJBfTGZ1nNzRXRkFZaotZhisdqbbS3pAmkAWVOfQ85Vh_cwsHKFp8Y4muPrqyUkSRbsepsxJeSx6o73Y4FRFqC3oeA3EZB9GbURGxpNNViDgkpioXXu4SVwoX5UyP8LzVvhe3xO7TeYIjj6ACLIZPuwp6npGGBnRxu1OXGa_j3QAUo-oculPGdyi0G_bks3FKW5PkLVtMlKhxiN2Fuqj7YwLkK-OIegmyfj70NhSsKv11RAtgZl6WiIMIElNDqf1YX6JoNkDfIfM5P0F7YeR5XE-SsVPGFalENrj-kOjheV6lSlEOzaFbAQ-hn1n1zPgRQyhrdXJ42F7YXjfNqg2_2roottoZX41zEHDg7MSetUmogd7_05wgZpaKzAWz2f8iNdHefoAD3gZPAG1r1rutcqghwp1q5KsPaJC0TiWWj7oc5ji9Skx4LM0qOj9_6IdOR_rm8x9sETB7nbGVJ42LEzQw_Mb2JjT7dMnmfYjh_zZsrA=s64",
      "userId": "06362799441420365332"
     },
     "user_tz": 300
    },
    "id": "6c5415f4"
   },
   "outputs": [],
   "source": [
    "# Sk=rakr (mGy m²/h): 28.66990\n",
    "Sk = 28669.9"
   ]
  },
  {
   "cell_type": "code",
   "execution_count": 73,
   "metadata": {},
   "outputs": [
    {
     "data": {
      "text/plain": [
       "(11, 37)"
      ]
     },
     "execution_count": 73,
     "metadata": {},
     "output_type": "execute_result"
    }
   ],
   "source": [
    "Anisotropy2D.shape"
   ]
  },
  {
   "cell_type": "code",
   "execution_count": 92,
   "metadata": {},
   "outputs": [],
   "source": [
    "x,y = np.meshgrid(np.linspace(0,180,37),np.linspace(0,50,11))\n",
    "\n",
    "f = interpolate.interp2d(x,y,np.array(Anisotropy2D),kind='cubic')"
   ]
  },
  {
   "cell_type": "code",
   "execution_count": 74,
   "metadata": {},
   "outputs": [],
   "source": [
    "np.meshgrid?"
   ]
  },
  {
   "cell_type": "code",
   "execution_count": 77,
   "metadata": {},
   "outputs": [
    {
     "name": "stdout",
     "output_type": "stream",
     "text": [
      "[[0. 1. 2. 3.]\n",
      " [0. 1. 2. 3.]\n",
      " [0. 1. 2. 3.]]\n",
      "[[0. 0. 0. 0.]\n",
      " [1. 1. 1. 1.]\n",
      " [2. 2. 2. 2.]]\n"
     ]
    }
   ],
   "source": [
    "nx, ny = (3, 2)\n",
    "x = np.linspace(0, nx, 4)\n",
    "y = np.linspace(0, ny, 3)\n",
    "xv, yv = np.meshgrid(x, y)\n",
    "print(xv)\n",
    "\n",
    "print(yv)\n",
    "\n",
    "# xv, yv = np.meshgrid(x, y, sparse=True)  # make sparse output arrays\n",
    "# xv\n",
    "\n",
    "# yv\n"
   ]
  },
  {
   "cell_type": "code",
   "execution_count": 87,
   "metadata": {},
   "outputs": [
    {
     "data": {
      "text/html": [
       "<div>\n",
       "<style scoped>\n",
       "    .dataframe tbody tr th:only-of-type {\n",
       "        vertical-align: middle;\n",
       "    }\n",
       "\n",
       "    .dataframe tbody tr th {\n",
       "        vertical-align: top;\n",
       "    }\n",
       "\n",
       "    .dataframe thead th {\n",
       "        text-align: right;\n",
       "    }\n",
       "</style>\n",
       "<table border=\"1\" class=\"dataframe\">\n",
       "  <thead>\n",
       "    <tr style=\"text-align: right;\">\n",
       "      <th></th>\n",
       "      <th>x</th>\n",
       "      <th>y</th>\n",
       "      <th>z</th>\n",
       "      <th>modulo_r</th>\n",
       "    </tr>\n",
       "  </thead>\n",
       "  <tbody>\n",
       "    <tr>\n",
       "      <th>0</th>\n",
       "      <td>2</td>\n",
       "      <td>2</td>\n",
       "      <td>2</td>\n",
       "      <td>3.464102</td>\n",
       "    </tr>\n",
       "    <tr>\n",
       "      <th>1</th>\n",
       "      <td>1</td>\n",
       "      <td>2</td>\n",
       "      <td>2</td>\n",
       "      <td>3.000000</td>\n",
       "    </tr>\n",
       "    <tr>\n",
       "      <th>2</th>\n",
       "      <td>0</td>\n",
       "      <td>2</td>\n",
       "      <td>2</td>\n",
       "      <td>2.828427</td>\n",
       "    </tr>\n",
       "  </tbody>\n",
       "</table>\n",
       "</div>"
      ],
      "text/plain": [
       "   x  y  z  modulo_r\n",
       "0  2  2  2  3.464102\n",
       "1  1  2  2  3.000000\n",
       "2  0  2  2  2.828427"
      ]
     },
     "execution_count": 87,
     "metadata": {},
     "output_type": "execute_result"
    }
   ],
   "source": [
    "r"
   ]
  },
  {
   "cell_type": "code",
   "execution_count": 109,
   "metadata": {},
   "outputs": [
    {
     "data": {
      "text/plain": [
       "[0.9829698746042657, 0.9964185589971272, 0.9999723025504144]"
      ]
     },
     "execution_count": 109,
     "metadata": {},
     "output_type": "execute_result"
    }
   ],
   "source": [
    "[(f(theta[i],r.modulo_r[i]*10))[0] for i in range(len(r))]"
   ]
  },
  {
   "cell_type": "code",
   "execution_count": 130,
   "metadata": {},
   "outputs": [
    {
     "data": {
      "text/plain": [
       "array([2648.63364871, 3580.66058644, 4039.8602985 ])"
      ]
     },
     "execution_count": 130,
     "metadata": {},
     "output_type": "execute_result"
    }
   ],
   "source": [
    "Dose_Rate(Position,calc_point,fuente,PlanDate)"
   ]
  },
  {
   "cell_type": "code",
   "execution_count": 153,
   "metadata": {},
   "outputs": [
    {
     "name": "stdout",
     "output_type": "stream",
     "text": [
      "[[[ 0  1  2  3  4  5  6  7]\n",
      "  [ 0  1  2  3  4  5  6  7]\n",
      "  [ 0  1  2  3  4  5  6  7]\n",
      "  [ 0  1  2  3  4  5  6  7]\n",
      "  [ 0  1  2  3  4  5  6  7]\n",
      "  [ 0  1  2  3  4  5  6  7]\n",
      "  [ 0  1  2  3  4  5  6  7]\n",
      "  [ 0  1  2  3  4  5  6  7]]\n",
      "\n",
      " [[16 16 16 16 16 16 16 16]\n",
      "  [17 17 17 17 17 17 17 17]\n",
      "  [18 18 18 18 18 18 18 18]\n",
      "  [19 19 19 19 19 19 19 19]\n",
      "  [20 20 20 20 20 20 20 20]\n",
      "  [21 21 21 21 21 21 21 21]\n",
      "  [22 22 22 22 22 22 22 22]\n",
      "  [23 23 23 23 23 23 23 23]]\n",
      "\n",
      " [[ 0  1  2  3  4  5  6  7]\n",
      "  [ 8  9 10 11 12 13 14 15]\n",
      "  [16 17 18 19 20 21 22 23]\n",
      "  [24 25 26 27 28 29 30 31]\n",
      "  [32 33 34 35 36 37 38 39]\n",
      "  [40 41 42 43 44 45 46 47]\n",
      "  [48 49 50 51 52 53 54 55]\n",
      "  [56 57 58 59 60 61 62 63]]]\n"
     ]
    }
   ],
   "source": [
    "import numpy as np\n",
    "\n",
    "# A values\n",
    "A = np.arange(0, 8)\n",
    "# B values\n",
    "B = np.arange(16, 24)\n",
    "# The corresponding C Values, where C[n, m] corresponds to A_n, B_m\n",
    "C = np.arange(8**2).reshape(8, 8)\n",
    "\n",
    "# Creating an 3x8x8 Array\n",
    "ABC = np.meshgrid(A, B) + [C,]\n",
    "ABC = np.array(ABC)\n",
    "\n",
    "print (ABC)"
   ]
  },
  {
   "cell_type": "code",
   "execution_count": 154,
   "metadata": {},
   "outputs": [],
   "source": [
    "np.meshgrid?"
   ]
  },
  {
   "cell_type": "code",
   "execution_count": 159,
   "metadata": {},
   "outputs": [
    {
     "data": {
      "text/plain": [
       "[array([-2., -2., -2.]),\n",
       " array([-2., -2., -1.]),\n",
       " array([-2., -2.,  0.]),\n",
       " array([-2., -2.,  1.]),\n",
       " array([-2., -2.,  2.]),\n",
       " array([-2., -1., -2.]),\n",
       " array([-2., -1., -1.]),\n",
       " array([-2., -1.,  0.]),\n",
       " array([-2., -1.,  1.]),\n",
       " array([-2., -1.,  2.]),\n",
       " array([-2.,  0., -2.]),\n",
       " array([-2.,  0., -1.]),\n",
       " array([-2.,  0.,  0.]),\n",
       " array([-2.,  0.,  1.]),\n",
       " array([-2.,  0.,  2.]),\n",
       " array([-2.,  1., -2.]),\n",
       " array([-2.,  1., -1.]),\n",
       " array([-2.,  1.,  0.]),\n",
       " array([-2.,  1.,  1.]),\n",
       " array([-2.,  1.,  2.]),\n",
       " array([-2.,  2., -2.]),\n",
       " array([-2.,  2., -1.]),\n",
       " array([-2.,  2.,  0.]),\n",
       " array([-2.,  2.,  1.]),\n",
       " array([-2.,  2.,  2.]),\n",
       " array([-1., -2., -2.]),\n",
       " array([-1., -2., -1.]),\n",
       " array([-1., -2.,  0.]),\n",
       " array([-1., -2.,  1.]),\n",
       " array([-1., -2.,  2.]),\n",
       " array([-1., -1., -2.]),\n",
       " array([-1., -1., -1.]),\n",
       " array([-1., -1.,  0.]),\n",
       " array([-1., -1.,  1.]),\n",
       " array([-1., -1.,  2.]),\n",
       " array([-1.,  0., -2.]),\n",
       " array([-1.,  0., -1.]),\n",
       " array([-1.,  0.,  0.]),\n",
       " array([-1.,  0.,  1.]),\n",
       " array([-1.,  0.,  2.]),\n",
       " array([-1.,  1., -2.]),\n",
       " array([-1.,  1., -1.]),\n",
       " array([-1.,  1.,  0.]),\n",
       " array([-1.,  1.,  1.]),\n",
       " array([-1.,  1.,  2.]),\n",
       " array([-1.,  2., -2.]),\n",
       " array([-1.,  2., -1.]),\n",
       " array([-1.,  2.,  0.]),\n",
       " array([-1.,  2.,  1.]),\n",
       " array([-1.,  2.,  2.]),\n",
       " array([ 0., -2., -2.]),\n",
       " array([ 0., -2., -1.]),\n",
       " array([ 0., -2.,  0.]),\n",
       " array([ 0., -2.,  1.]),\n",
       " array([ 0., -2.,  2.]),\n",
       " array([ 0., -1., -2.]),\n",
       " array([ 0., -1., -1.]),\n",
       " array([ 0., -1.,  0.]),\n",
       " array([ 0., -1.,  1.]),\n",
       " array([ 0., -1.,  2.]),\n",
       " array([ 0.,  0., -2.]),\n",
       " array([ 0.,  0., -1.]),\n",
       " array([0., 0., 0.]),\n",
       " array([0., 0., 1.]),\n",
       " array([0., 0., 2.]),\n",
       " array([ 0.,  1., -2.]),\n",
       " array([ 0.,  1., -1.]),\n",
       " array([0., 1., 0.]),\n",
       " array([0., 1., 1.]),\n",
       " array([0., 1., 2.]),\n",
       " array([ 0.,  2., -2.]),\n",
       " array([ 0.,  2., -1.]),\n",
       " array([0., 2., 0.]),\n",
       " array([0., 2., 1.]),\n",
       " array([0., 2., 2.]),\n",
       " array([ 1., -2., -2.]),\n",
       " array([ 1., -2., -1.]),\n",
       " array([ 1., -2.,  0.]),\n",
       " array([ 1., -2.,  1.]),\n",
       " array([ 1., -2.,  2.]),\n",
       " array([ 1., -1., -2.]),\n",
       " array([ 1., -1., -1.]),\n",
       " array([ 1., -1.,  0.]),\n",
       " array([ 1., -1.,  1.]),\n",
       " array([ 1., -1.,  2.]),\n",
       " array([ 1.,  0., -2.]),\n",
       " array([ 1.,  0., -1.]),\n",
       " array([1., 0., 0.]),\n",
       " array([1., 0., 1.]),\n",
       " array([1., 0., 2.]),\n",
       " array([ 1.,  1., -2.]),\n",
       " array([ 1.,  1., -1.]),\n",
       " array([1., 1., 0.]),\n",
       " array([1., 1., 1.]),\n",
       " array([1., 1., 2.]),\n",
       " array([ 1.,  2., -2.]),\n",
       " array([ 1.,  2., -1.]),\n",
       " array([1., 2., 0.]),\n",
       " array([1., 2., 1.]),\n",
       " array([1., 2., 2.]),\n",
       " array([ 2., -2., -2.]),\n",
       " array([ 2., -2., -1.]),\n",
       " array([ 2., -2.,  0.]),\n",
       " array([ 2., -2.,  1.]),\n",
       " array([ 2., -2.,  2.]),\n",
       " array([ 2., -1., -2.]),\n",
       " array([ 2., -1., -1.]),\n",
       " array([ 2., -1.,  0.]),\n",
       " array([ 2., -1.,  1.]),\n",
       " array([ 2., -1.,  2.]),\n",
       " array([ 2.,  0., -2.]),\n",
       " array([ 2.,  0., -1.]),\n",
       " array([2., 0., 0.]),\n",
       " array([2., 0., 1.]),\n",
       " array([2., 0., 2.]),\n",
       " array([ 2.,  1., -2.]),\n",
       " array([ 2.,  1., -1.]),\n",
       " array([2., 1., 0.]),\n",
       " array([2., 1., 1.]),\n",
       " array([2., 1., 2.]),\n",
       " array([ 2.,  2., -2.]),\n",
       " array([ 2.,  2., -1.]),\n",
       " array([2., 2., 0.]),\n",
       " array([2., 2., 1.]),\n",
       " array([2., 2., 2.])]"
      ]
     },
     "execution_count": 159,
     "metadata": {},
     "output_type": "execute_result"
    }
   ],
   "source": [
    "[np.array([i,j,k]) for i in np.linspace(-2,2,5) for j in np.linspace(-2,2,5) for k in np.linspace(-2,2,5)]"
   ]
  },
  {
   "cell_type": "code",
   "execution_count": 199,
   "metadata": {},
   "outputs": [],
   "source": [
    "def func(x, y):\n",
    "    return x*(1-x)*np.cos(4*np.pi*x) * np.sin(4*np.pi*y**2)**2\n",
    "\n",
    "grid_x, grid_y = np.mgrid[0:1:100j, 0:1:200j]\n",
    "\n",
    "rng = np.random.default_rng()\n",
    "points = rng.random((1000, 2))\n",
    "values = func(points[:,0], points[:,1])\n",
    "\n",
    "from scipy.interpolate import griddata\n",
    "grid_z0 = griddata(points, values, (grid_x, grid_y), method='nearest')\n",
    "grid_z1 = griddata(points, values, (grid_x, grid_y), method='linear')\n",
    "grid_z2 = griddata(points, values, (grid_x, grid_y), method='cubic')"
   ]
  },
  {
   "cell_type": "code",
   "execution_count": 205,
   "metadata": {},
   "outputs": [
    {
     "data": {
      "text/plain": [
       "array([0.33354222, 0.54468439])"
      ]
     },
     "execution_count": 205,
     "metadata": {},
     "output_type": "execute_result"
    }
   ],
   "source": [
    "points[0]"
   ]
  },
  {
   "cell_type": "code",
   "execution_count": null,
   "metadata": {},
   "outputs": [],
   "source": []
  }
 ],
 "metadata": {
  "colab": {
   "collapsed_sections": [],
   "name": "Prueba_BQT.ipynb",
   "provenance": []
  },
  "kernelspec": {
   "display_name": "Python 3",
   "language": "python",
   "name": "python3"
  },
  "language_info": {
   "codemirror_mode": {
    "name": "ipython",
    "version": 3
   },
   "file_extension": ".py",
   "mimetype": "text/x-python",
   "name": "python",
   "nbconvert_exporter": "python",
   "pygments_lexer": "ipython3",
   "version": "3.6.13"
  }
 },
 "nbformat": 4,
 "nbformat_minor": 5
}
